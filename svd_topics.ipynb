{
 "cells": [
  {
   "cell_type": "code",
   "execution_count": 2,
   "metadata": {
    "collapsed": true
   },
   "outputs": [],
   "source": [
    "from __future__ import print_function\n",
    "from scipy import sparse\n",
    "from scipy.sparse.linalg import svds\n",
    "from sklearn.decomposition import NMF, LatentDirichletAllocation\n",
    "from sklearn.feature_extraction.text import TfidfVectorizer, CountVectorizer\n",
    "from sklearn.manifold import TSNE\n",
    "from sklearn.preprocessing import normalize\n",
    "import numpy as np\n",
    "import pickle\n",
    "import matplotlib.pyplot as plt"
   ]
  },
  {
   "cell_type": "markdown",
   "metadata": {},
   "source": [
    "# Preprocessing\n",
    "Can skip past this part, not really important..."
   ]
  },
  {
   "cell_type": "code",
   "execution_count": 3,
   "metadata": {
    "collapsed": false
   },
   "outputs": [],
   "source": [
    "ta_data = pickle.load(open(\"data/tripadvisor_reviews.pickle\", 'rb'))\n",
    "airbnb_data = pickle.load(open(\"data/airbnb_reviews.pickle\", 'rb'))"
   ]
  },
  {
   "cell_type": "code",
   "execution_count": 4,
   "metadata": {
    "collapsed": true
   },
   "outputs": [],
   "source": [
    "ta_listings = pickle.load(open(\"data/tripadvisor_hotel_info.pickle\", 'rb'))\n",
    "airbnb_listings = pickle.load(open(\"data/airbnb_listings.pickle\", 'rb'))"
   ]
  },
  {
   "cell_type": "code",
   "execution_count": 5,
   "metadata": {
    "collapsed": true
   },
   "outputs": [],
   "source": [
    "ta_vectorizer = TfidfVectorizer(stop_words='english', min_df=0.05, max_df=0.9)\n",
    "airbnb_vectorizer = TfidfVectorizer(stop_words='english', min_df=0.05, max_df=0.9)\n",
    "total_vectorizer = TfidfVectorizer(stop_words='english', min_df=0.05, max_df=0.9)"
   ]
  },
  {
   "cell_type": "code",
   "execution_count": 6,
   "metadata": {
    "collapsed": false
   },
   "outputs": [],
   "source": [
    "ta_listing_to_index = {}\n",
    "ta_index_to_listing = {}\n",
    "for i,d in enumerate(ta_listings.items()):\n",
    "    ta_listing_to_index[d[0]] = i\n",
    "    ta_index_to_listing[i] = d[0]\n",
    "\n",
    "ta_reviews = []\n",
    "ta_adj_mat = np.zeros((len(ta_listing_to_index), len(ta_data)))\n",
    "for j,d in enumerate(ta_data):\n",
    "    i = ta_listing_to_index[d['hotel_name']]\n",
    "    ta_reviews.append(d['review'])\n",
    "    ta_adj_mat[i,j] += 1\n",
    "    \n",
    "ta_mat_index_to_listing = {}\n",
    "for i,_ in enumerate(ta_listings.items()):\n",
    "    ta_mat_index_to_listing[i] = i\n",
    "    \n",
    "\n",
    "airbnb_index_to_listing = {}\n",
    "airbnb_listing_to_mat_index = {}\n",
    "airbnb_mat_index_to_listing = {}\n",
    "airbnb_reviews = []\n",
    "i = 0\n",
    "for (ind, (listing_id, reviews)) in enumerate(airbnb_data.items()):\n",
    "    for review in reviews:\n",
    "        airbnb_reviews.append(review)\n",
    "        airbnb_listing_to_mat_index[listing_id] = ind\n",
    "        airbnb_mat_index_to_listing[ind] = listing_id\n",
    "        airbnb_index_to_listing[i] = listing_id\n",
    "        i += 1\n",
    "count = i\n",
    "airbnb_adj_mat = np.zeros((len(airbnb_data),i))\n",
    "for (j, l) in airbnb_index_to_listing.items():\n",
    "    airbnb_adj_mat[airbnb_listing_to_mat_index[l],j] += 1 \n",
    "    \n",
    "total_adj_mat = np.zeros((len(ta_listing_to_index)+len(airbnb_data),len(ta_data)+count))\n",
    "total_index_to_listing = {}\n",
    "total_mat_index_to_listing = {}\n",
    "for j,d in enumerate(ta_data):\n",
    "    i = ta_listing_to_index[d['hotel_name']]\n",
    "    ta_adj_mat[i,j] += 1\n",
    "    total_mat_index_to_listing[i] = i\n",
    "for (j, l) in airbnb_index_to_listing.items():\n",
    "    row = len(ta_listing_to_index)+airbnb_listing_to_mat_index[l]\n",
    "    col = len(ta_data)+j\n",
    "    total_adj_mat[row,col] += 1 \n",
    "    total_mat_index_to_listing[row] = l\n",
    "\n",
    "total_reviews = ta_reviews + airbnb_reviews"
   ]
  },
  {
   "cell_type": "code",
   "execution_count": 7,
   "metadata": {
    "collapsed": true
   },
   "outputs": [],
   "source": [
    "ta_tfidf = ta_vectorizer.fit_transform(ta_reviews)\n",
    "airbnb_tfidf = airbnb_vectorizer.fit_transform(airbnb_reviews)\n",
    "total_tfidf = total_vectorizer.fit_transform(total_reviews)"
   ]
  },
  {
   "cell_type": "code",
   "execution_count": 8,
   "metadata": {
    "collapsed": false
   },
   "outputs": [
    {
     "name": "stdout",
     "output_type": "stream",
     "text": [
      "(78, 10)\n",
      "(46606, 10)\n",
      "(10, 227)\n",
      "\n",
      "(7993, 10)\n",
      "(90003, 10)\n",
      "(10, 157)\n",
      "\n",
      "(8071, 10)\n",
      "(136609, 10)\n",
      "(10, 181)\n"
     ]
    }
   ],
   "source": [
    "ta_lda_ht = pickle.load(open(\"data/ta_lda_ht.mat\"))\n",
    "ta_lda_dt = pickle.load(open(\"data/ta_lda_dt.mat\"))\n",
    "ta_lda_tt = pickle.load(open(\"data/ta_lda_tt.mat\"))\n",
    "airbnb_lda_ht = pickle.load(open(\"data/airbnb_lda_ht.mat\"))\n",
    "airbnb_lda_dt = pickle.load(open(\"data/airbnb_lda_dt.mat\"))\n",
    "airbnb_lda_tt = pickle.load(open(\"data/airbnb_lda_tt.mat\"))\n",
    "total_lda_ht = pickle.load(open(\"data/total_lda_ht.mat\"))\n",
    "total_lda_dt = pickle.load(open(\"data/total_lda_dt.mat\"))\n",
    "total_lda_tt = pickle.load(open(\"data/total_lda_tt.mat\"))\n",
    "\n",
    "print(ta_lda_ht.shape)\n",
    "print(ta_lda_dt.shape)\n",
    "print(ta_lda_tt.shape)\n",
    "print()\n",
    "print(airbnb_lda_ht.shape)\n",
    "print(airbnb_lda_dt.shape)\n",
    "print(airbnb_lda_tt.shape)\n",
    "print()\n",
    "print(total_lda_ht.shape)\n",
    "print(total_lda_dt.shape)\n",
    "print(total_lda_tt.shape)"
   ]
  },
  {
   "cell_type": "markdown",
   "metadata": {},
   "source": [
    "# SVD Analysis\n",
    "We want to see how as the number of dimensions, how much more of the data is encapsulated, which can be seen using the singular values, as shown in the plot."
   ]
  },
  {
   "cell_type": "code",
   "execution_count": 9,
   "metadata": {
    "collapsed": false
   },
   "outputs": [],
   "source": [
    "u, s, v_trans = svds(total_tfidf, k=100)\n",
    "v = v_trans.T"
   ]
  },
  {
   "cell_type": "code",
   "execution_count": 10,
   "metadata": {
    "collapsed": false
   },
   "outputs": [
    {
     "data": {
      "image/png": "[encoded data removed]",
      "text/plain": [
       "<matplotlib.figure.Figure at 0x115b8fd50>"
      ]
     },
     "metadata": {},
     "output_type": "display_data"
    }
   ],
   "source": [
    "%matplotlib inline\n",
    "plt.plot(s[::-1])\n",
    "plt.xlabel(\"Singular value number\")\n",
    "plt.ylabel(\"Singular value\")\n",
    "plt.show()"
   ]
  },
  {
   "cell_type": "markdown",
   "metadata": {},
   "source": [
    "# Number of Topics\n",
    "Seems reasonable to use anything above 40, and we can increase that number, but make sure to see how that affects the results below for the searches. This is a hyper-parameter we can tune by eye."
   ]
  },
  {
   "cell_type": "code",
   "execution_count": 11,
   "metadata": {
    "collapsed": true
   },
   "outputs": [],
   "source": [
    "total_svd_dt, total_svd_s, total_svd_tt = svds(total_tfidf, k=100)"
   ]
  },
  {
   "cell_type": "code",
   "execution_count": 30,
   "metadata": {
    "collapsed": false
   },
   "outputs": [],
   "source": [
    "pickle.dump(total_svd_s, open(\"data/total_svd_s.pickle\", \"wb\"))\n",
    "pickle.dump(total_svd_tt, open(\"data/total_svd_tt.pickle\", \"wb\"))"
   ]
  },
  {
   "cell_type": "markdown",
   "metadata": {},
   "source": [
    "### Hotel Relation Matrix\n",
    "Use this matrix if you want to find hotels (Airbnb or TA) that are related to whatever listing you want. Computation takes a while though, beware."
   ]
  },
  {
   "cell_type": "code",
   "execution_count": 12,
   "metadata": {
    "collapsed": true
   },
   "outputs": [],
   "source": [
    "total_svd_ht = np.matmul(total_adj_mat, total_svd_dt)"
   ]
  },
  {
   "cell_type": "markdown",
   "metadata": {},
   "source": [
    "## Evaluating how SVD does based only on our corpus\n",
    "Take a look at a couple of queries and the \"similar\" words based on our corpus. If you don't like the results, adjust the number of topics (k in the svds command above)."
   ]
  },
  {
   "cell_type": "code",
   "execution_count": 13,
   "metadata": {
    "collapsed": false
   },
   "outputs": [
    {
     "name": "stdout",
     "output_type": "stream",
     "text": [
      "(100, 181)\n"
     ]
    }
   ],
   "source": [
    "word_to_index = total_vectorizer.vocabulary_\n",
    "index_to_word = {i:t for t,i in word_to_index.iteritems()}\n",
    "print(total_svd_tt.shape)"
   ]
  },
  {
   "cell_type": "code",
   "execution_count": 14,
   "metadata": {
    "collapsed": false
   },
   "outputs": [
    {
     "name": "stdout",
     "output_type": "stream",
     "text": [
      "Word: quiet\n",
      "**********\n",
      "street: 0.112326693964\n",
      "neighborhood: 0.103048826749\n",
      "location: 0.0884255282859\n",
      "apartment: 0.078547692579\n",
      "clean: 0.0743005567518\n",
      "**********\n",
      "\n",
      "Word: clean\n",
      "**********\n",
      "apartment: 0.177614360246\n",
      "towels: 0.17068504298\n",
      "place: 0.158998282974\n",
      "bathroom: 0.158126742714\n",
      "comfortable: 0.146443411221\n",
      "**********\n",
      "\n",
      "Word: breakfast\n",
      "**************\n",
      "morning: 0.235571983952\n",
      "free: 0.217817364065\n",
      "coffee: 0.208403939283\n",
      "hotel: 0.207153951294\n",
      "staff: 0.200640522858\n",
      "**************\n",
      "\n",
      "Word: close\n",
      "**********\n",
      "subway: 0.24197562135\n",
      "restaurants: 0.126476982962\n",
      "apartment: 0.118581769555\n",
      "great: 0.109651252382\n",
      "place: 0.101985337738\n",
      "**********\n",
      "\n"
     ]
    }
   ],
   "source": [
    "def closest_words(word_in, total_svd_s, total_svd_tt, k = 5):\n",
    "    if word_in not in word_to_index: return []\n",
    "    sims = np.matmul(total_svd_tt.T, np.multiply(total_svd_s, total_svd_tt[:, word_to_index[word_in]]))\n",
    "    asort = np.argsort(-sims)[:k+1]\n",
    "    return [(index_to_word[i],sims[i]/sims[asort[0]]) for i in asort[1:]]\n",
    "\n",
    "def pretty_print(q, array_of_tuples):\n",
    "    print(\"Word: \" + q)\n",
    "    print(\"*\" * (len(q)+5))\n",
    "    for (w, sc) in array_of_tuples:\n",
    "        print(w + \": \" + str(sc))\n",
    "    print(\"*\" * (len(q)+5))\n",
    "    print()\n",
    "pretty_print(\"quiet\", closest_words(\"quiet\", total_svd_s, total_svd_tt))\n",
    "pretty_print(\"clean\", closest_words(\"clean\", total_svd_s, total_svd_tt))\n",
    "pretty_print(\"breakfast\", closest_words(\"breakfast\", total_svd_s, total_svd_tt))\n",
    "pretty_print(\"close\", closest_words(\"close\", total_svd_s, total_svd_tt))"
   ]
  },
  {
   "cell_type": "markdown",
   "metadata": {},
   "source": [
    "# LDA Search\n",
    "I've just augmented the query using whatever words ```closest_words``` returns. This is obviously super naive, and gives very high similarity scores because of that, so we can definitely trim this down, but this is just a starting point to work off of."
   ]
  },
  {
   "cell_type": "code",
   "execution_count": 15,
   "metadata": {
    "collapsed": true
   },
   "outputs": [],
   "source": [
    "def print_top_words(mat, feature_names, n_top_words):\n",
    "    for topic_idx, topic in enumerate(mat):\n",
    "        print(\"Rank #%d:\" % topic_idx)\n",
    "        indices = topic.argsort()[:-n_top_words - 1:-1]\n",
    "        print(\" \".join([feature_names[i] for i in indices if topic[i] > 0]))\n",
    "    print()"
   ]
  },
  {
   "cell_type": "code",
   "execution_count": 16,
   "metadata": {
    "collapsed": true
   },
   "outputs": [],
   "source": [
    "ta_tfidf_feature_names = ta_vectorizer.get_feature_names()\n",
    "airbnb_tfidf_feature_names = airbnb_vectorizer.get_feature_names()\n",
    "total_tfidf_feature_names = total_vectorizer.get_feature_names()"
   ]
  },
  {
   "cell_type": "code",
   "execution_count": 28,
   "metadata": {
    "collapsed": true
   },
   "outputs": [],
   "source": [
    "def search_lda(query, vectorizer, ht_mat, tt_mat, mat_to_listing_dict, svd_weights, svd_topics, top_k = 10):\n",
    "    query_updated = []\n",
    "    for q in query.split():\n",
    "        query_updated += [q]\n",
    "        query_updated += [w[0] for w in closest_words(q, svd_weights, svd_topics)]\n",
    "    query_updated = \" \".join(query_updated)\n",
    "    print(query_updated)\n",
    "    vec = vectorizer.transform([query_updated]).todense().T\n",
    "    results = np.dot(ht_mat, normalize(np.dot(tt_mat, vec), axis = 0)).T\n",
    "    indices = np.squeeze(np.asarray(np.argsort(results)))[::-1].T[:top_k]\n",
    "    scores = np.squeeze(np.asarray(np.sort(results)))[::-1].T[:top_k]    \n",
    "    listings = np.zeros(indices.shape)\n",
    "    for i in range(indices.shape[0]):\n",
    "        listings[i] = mat_to_listing_dict[indices[i]]\n",
    "    return (listings.tolist(), indices.tolist(), scores.tolist())"
   ]
  },
  {
   "cell_type": "code",
   "execution_count": 18,
   "metadata": {
    "collapsed": false
   },
   "outputs": [
    {
     "name": "stdout",
     "output_type": "stream",
     "text": [
      "close subway restaurants apartment great place\n",
      "(157, 1)\n"
     ]
    }
   ],
   "source": [
    "listings, indices, scores = search_lda(\"close\", \n",
    "                                       airbnb_vectorizer, \n",
    "                                       airbnb_lda_ht, \n",
    "                                       airbnb_lda_tt, \n",
    "                                       airbnb_mat_index_to_listing, \n",
    "                                       total_svd_s, \n",
    "                                       total_svd_tt)"
   ]
  },
  {
   "cell_type": "code",
   "execution_count": 19,
   "metadata": {
    "collapsed": false
   },
   "outputs": [
    {
     "name": "stdout",
     "output_type": "stream",
     "text": [
      "Listing ID: 57874\n",
      "Listing Name: The Brownstone-Luxury 1 Bd Apt/NYC\n",
      "Listing URL: https://www.airbnb.com/rooms/57874\n",
      "Image URL: https://a0.muscache.com/im/pictures/636607/7985819c_original.jpg?aki_policy=large\n",
      "Score (Similarity): 0.988721721935\n",
      "**************\n",
      "Listing ID: 833927\n",
      "Listing Name: ★ Large Prime Cozy E Village Apt ★\n",
      "Listing URL: https://www.airbnb.com/rooms/833927\n",
      "Image URL: https://a0.muscache.com/im/pictures/13031597/eff1db4d_original.jpg?aki_policy=large\n",
      "Score (Similarity): 0.982292313671\n",
      "**************\n",
      "Listing ID: 3190502\n",
      "Listing Name: Beautiful Upper East Side Apt near Central Park\n",
      "Listing URL: https://www.airbnb.com/rooms/3190502\n",
      "Image URL: https://a0.muscache.com/im/pictures/4ff039c3-a9fc-4ee6-b64d-f92bdc34abe4.jpg?aki_policy=large\n",
      "Score (Similarity): 0.98033266908\n",
      "**************\n",
      "Listing ID: 3869779\n",
      "Listing Name: Loft in Bushwick/East Williamsburg\n",
      "Listing URL: https://www.airbnb.com/rooms/3869779\n",
      "Image URL: https://a0.muscache.com/im/pictures/0f8e7c6f-3372-4d17-9d2f-32dbdbdefa1a.jpg?aki_policy=large\n",
      "Score (Similarity): 0.97781037097\n",
      "**************\n",
      "Listing ID: 8388457\n",
      "Listing Name: Charming, Convenient, Private Bath\n",
      "Listing URL: https://www.airbnb.com/rooms/8388457\n",
      "Image URL: https://a0.muscache.com/im/pictures/36a0f0c2-b530-40b9-9a16-6f0e8c6c21bc.jpg?aki_policy=large\n",
      "Score (Similarity): 0.976794730439\n",
      "**************\n",
      "Listing ID: 3426149\n",
      "Listing Name: Bright BK studio apt (Ft. Greene)\n",
      "Listing URL: https://www.airbnb.com/rooms/3426149\n",
      "Image URL: https://a0.muscache.com/im/pictures/54717286/2c5074fe_original.jpg?aki_policy=large\n",
      "Score (Similarity): 0.975925712492\n",
      "**************\n",
      "Listing ID: 231194\n",
      "Listing Name: 2bdrm Luxury Apt Fort Greene Bklyn\n",
      "Listing URL: https://www.airbnb.com/rooms/231194\n",
      "Image URL: https://a0.muscache.com/im/pictures/5300032/c3000812_original.jpg?aki_policy=large\n",
      "Score (Similarity): 0.974376118752\n",
      "**************\n",
      "Listing ID: 12601058\n",
      "Listing Name: Private Room Steps to Central Park!\n",
      "Listing URL: https://www.airbnb.com/rooms/12601058\n",
      "Image URL: https://a0.muscache.com/im/pictures/6ea5fbae-1670-40bb-9146-d95fe6b4beb5.jpg?aki_policy=large\n",
      "Score (Similarity): 0.973107895613\n",
      "**************\n",
      "Listing ID: 4225569\n",
      "Listing Name: Lovely Astoria Studio-close to NYC!\n",
      "Listing URL: https://www.airbnb.com/rooms/4225569\n",
      "Image URL: https://a0.muscache.com/im/pictures/5238c666-3805-47f7-b3ed-dbf035b1d48a.jpg?aki_policy=large\n",
      "Score (Similarity): 0.972888270488\n",
      "**************\n",
      "Listing ID: 55467\n",
      "Listing Name: Private Garden Apt • New Renovation\n",
      "Listing URL: https://www.airbnb.com/rooms/55467\n",
      "Image URL: https://a0.muscache.com/im/pictures/34482664/3c24d6f3_original.jpg?aki_policy=large\n",
      "Score (Similarity): 0.972694810791\n",
      "**************\n"
     ]
    }
   ],
   "source": [
    "for (l, ind, score) in zip(listings, indices, scores):\n",
    "    listing_id = str(int(l))\n",
    "    airbnb_listing_info = airbnb_listings[listing_id]\n",
    "    print(\"Listing ID: \" + listing_id)\n",
    "    print(\"Listing Name: \" + airbnb_listing_info['name'])\n",
    "#     print(\"Review : \\n\" + airbnb_reviews[ind])\n",
    "    print(\"Listing URL: \" + airbnb_listing_info['listing_url'])\n",
    "    print(\"Image URL: \" + airbnb_listing_info['picture_url'])\n",
    "    print(\"Score (Similarity): \" + str(score))\n",
    "    print(\"**************\")"
   ]
  },
  {
   "cell_type": "code",
   "execution_count": 20,
   "metadata": {
    "collapsed": false
   },
   "outputs": [
    {
     "name": "stdout",
     "output_type": "stream",
     "text": [
      "neat\n",
      "(227, 1)\n"
     ]
    }
   ],
   "source": [
    "listings, indices, scores = search_lda(\"neat\", \n",
    "                                       ta_vectorizer, \n",
    "                                       ta_lda_ht, \n",
    "                                       ta_lda_tt, \n",
    "                                       ta_mat_index_to_listing,\n",
    "                                       total_svd_s, \n",
    "                                       total_svd_tt)"
   ]
  },
  {
   "cell_type": "code",
   "execution_count": 21,
   "metadata": {
    "collapsed": false
   },
   "outputs": [
    {
     "name": "stdout",
     "output_type": "stream",
     "text": [
      "Listing Name: Ramada New York/Eastside \n",
      "Listing URL: https://www.tripadvisor.com/Hotel_Review-g60763-d99388-Reviews-Ramada_New_York_Eastside-New_York_City_New_York.html\n",
      "Score (Similarity): 0.0\n",
      "**************\n",
      "Listing Name: Morningside Inn \n",
      "Listing URL: https://www.tripadvisor.com/Hotel_Review-g60763-d249710-Reviews-Morningside_Inn-New_York_City_New_York.html\n",
      "Score (Similarity): 0.0\n",
      "**************\n",
      "Listing Name: U.S. Pacific Hotel \n",
      "Listing URL: https://www.tripadvisor.com/Hotel_Review-g60763-d8722421-Reviews-U_S_Pacific_Hotel-New_York_City_New_York.html\n",
      "Score (Similarity): 0.0\n",
      "**************\n",
      "Listing Name: InterContinental New York Times Square \n",
      "Listing URL: https://www.tripadvisor.com/Hotel_Review-g60763-d1646128-Reviews-InterContinental_New_York_Times_Square-New_York_City_New_York.html\n",
      "Score (Similarity): 0.0\n",
      "**************\n",
      "Listing Name: The Roxy Hotel Tribeca \n",
      "Listing URL: https://www.tripadvisor.com/Hotel_Review-g60763-d208455-Reviews-The_Roxy_Hotel_Tribeca-New_York_City_New_York.html\n",
      "Score (Similarity): 0.0\n",
      "**************\n",
      "Listing Name: New York Inn \n",
      "Listing URL: https://www.tripadvisor.com/Hotel_Review-g60763-d93356-Reviews-New_York_Inn-New_York_City_New_York.html\n",
      "Score (Similarity): 0.0\n",
      "**************\n",
      "Listing Name: Kimpton Ink48 Hotel \n",
      "Listing URL: https://www.tripadvisor.com/Hotel_Review-g60763-d1158753-Reviews-Kimpton_Ink48_Hotel-New_York_City_New_York.html\n",
      "Score (Similarity): 0.0\n",
      "**************\n",
      "Listing Name: Holiday Inn NYC - Lower East Side \n",
      "Listing URL: https://www.tripadvisor.com/Hotel_Review-g60763-d3236642-Reviews-Holiday_Inn_NYC_Lower_East_Side-New_York_City_New_York.html\n",
      "Score (Similarity): 0.0\n",
      "**************\n",
      "Listing Name: ONE UN New York \n",
      "Listing URL: https://www.tripadvisor.com/Hotel_Review-g60763-d209382-Reviews-ONE_UN_New_York-New_York_City_New_York.html\n",
      "Score (Similarity): 0.0\n",
      "**************\n",
      "Listing Name: SIXTY SoHo \n",
      "Listing URL: https://www.tripadvisor.com/Hotel_Review-g60763-d93398-Reviews-SIXTY_SoHo-New_York_City_New_York.html\n",
      "Score (Similarity): 0.0\n",
      "**************\n"
     ]
    }
   ],
   "source": [
    "for (l, ind, score) in zip(listings, indices, scores):\n",
    "    listing_id = str(int(l))\n",
    "    \n",
    "    ta_listing_info = ta_listings[ta_index_to_listing[int(l)]]\n",
    "#     print(\"Listing ID: \" + listing_id)\n",
    "    print(\"Listing Name: \" + ta_index_to_listing[int(l)])\n",
    "#     print(\"Review : \\n\" + airbnb_reviews[ind])\n",
    "    print(\"Listing URL: \" + ta_listing_info[0])\n",
    "#     print(\"Image URL: \" + airbnb_listing_info['picture_url'])\n",
    "    print(\"Score (Similarity): \" + str(score))\n",
    "    print(\"**************\")"
   ]
  },
  {
   "cell_type": "code",
   "execution_count": 22,
   "metadata": {
    "collapsed": false
   },
   "outputs": [
    {
     "name": "stdout",
     "output_type": "stream",
     "text": [
      "breakfast morning free coffee hotel staff\n",
      "(181, 1)\n"
     ]
    }
   ],
   "source": [
    "listings, indices, scores = search_lda(\"breakfast\", \n",
    "                                       total_vectorizer, \n",
    "                                       total_lda_ht, \n",
    "                                       total_lda_tt, \n",
    "                                       total_mat_index_to_listing,\n",
    "                                       total_svd_s, \n",
    "                                       total_svd_tt)"
   ]
  },
  {
   "cell_type": "code",
   "execution_count": 23,
   "metadata": {
    "collapsed": false
   },
   "outputs": [
    {
     "name": "stdout",
     "output_type": "stream",
     "text": [
      "Listing ID: Tripadvisor 18\n",
      "Listing Name: Redford Hotel \n",
      "Listing URL: https://www.tripadvisor.com/Hotel_Review-g60763-d1583937-Reviews-Redford_Hotel-New_York_City_New_York.html\n",
      "Score (Similarity): 0.963227262834\n",
      "**************\n",
      "Listing ID: Airbnb 6329973\n",
      "Listing Name (Airbnb): Times Square room with private bath\n",
      "Listing URL: https://www.airbnb.com/rooms/6329973\n",
      "Image URL: https://a0.muscache.com/im/pictures/7befc35b-0d27-4669-b72b-2ccbfbe6ecbc.jpg?aki_policy=large\n",
      "Score (Similarity): 0.952149983175\n",
      "**************\n",
      "Listing ID: Airbnb 10902006\n",
      "Listing Name (Airbnb): Times Square Oasis + Wi-Fi & Sauna\n",
      "Listing URL: https://www.airbnb.com/rooms/10902006\n",
      "Image URL: https://a0.muscache.com/im/pictures/5464e928-44af-467f-92c4-c86bd423b4ee.jpg?aki_policy=large\n",
      "Score (Similarity): 0.942793460458\n",
      "**************\n",
      "Listing ID: Airbnb 8033609\n",
      "Listing Name (Airbnb): Studio Apartment with King Bed\n",
      "Listing URL: https://www.airbnb.com/rooms/8033609\n",
      "Image URL: https://a0.muscache.com/im/pictures/c4fd2915-d3b5-4c36-be24-9bedf551b67f.jpg?aki_policy=large\n",
      "Score (Similarity): 0.941695763225\n",
      "**************\n",
      "Listing ID: Airbnb 14799088\n",
      "Listing Name (Airbnb): Comfy private home in LES\n",
      "Listing URL: https://www.airbnb.com/rooms/14799088\n",
      "Image URL: https://a0.muscache.com/im/pictures/facd15f7-343b-488b-b369-dc5181aca9d1.jpg?aki_policy=large\n",
      "Score (Similarity): 0.936796858211\n",
      "**************\n",
      "Listing ID: Airbnb 1932459\n",
      "Listing Name (Airbnb): Fantastic Central Park View Sleeps5\n",
      "Listing URL: https://www.airbnb.com/rooms/1932459\n",
      "Image URL: https://a0.muscache.com/im/pictures/26798865/1f0d8bc9_original.jpg?aki_policy=large\n",
      "Score (Similarity): 0.936761202381\n",
      "**************\n",
      "Listing ID: Tripadvisor 70\n",
      "Listing Name: Windsor Hotel \n",
      "Listing URL: https://www.tripadvisor.com/Hotel_Review-g60763-d267182-Reviews-Windsor_Hotel-New_York_City_New_York.html\n",
      "Score (Similarity): 0.918482254907\n",
      "**************\n",
      "Listing ID: Tripadvisor 16\n",
      "Listing Name: Manhattan Broadway Hotel \n",
      "Listing URL: https://www.tripadvisor.com/Hotel_Review-g60763-d122007-Reviews-Manhattan_Broadway_Hotel-New_York_City_New_York.html\n",
      "Score (Similarity): 0.917359847169\n",
      "**************\n",
      "Listing ID: Airbnb 7128695\n",
      "Listing Name (Airbnb): Midtown Luxury 1BR 36th St & 7th Av\n",
      "Listing URL: https://www.airbnb.com/rooms/7128695\n",
      "Image URL: https://a0.muscache.com/im/pictures/90409429/c1ac4d09_original.jpg?aki_policy=large\n",
      "Score (Similarity): 0.915988539004\n",
      "**************\n",
      "Listing ID: Tripadvisor 11\n",
      "Listing Name: Gardens NYC–an Affinia hotel \n",
      "Listing URL: https://www.tripadvisor.com/Hotel_Review-g60763-d93467-Reviews-Gardens_NYC_an_Affinia_hotel-New_York_City_New_York.html\n",
      "Score (Similarity): 0.915047827398\n",
      "**************\n"
     ]
    }
   ],
   "source": [
    "threshold = (ta_lda_ht.shape)[0]\n",
    "for (l, ind, score) in zip(listings, indices, scores):\n",
    "    if (ind > threshold):\n",
    "        # Airbnb\n",
    "        listing_id = str(int(l))\n",
    "        airbnb_listing_info = airbnb_listings[listing_id]\n",
    "        print(\"Listing ID: Airbnb \" + listing_id)\n",
    "        print(\"Listing Name (Airbnb): \" + airbnb_listing_info['name'])\n",
    "    #     print(\"Review : \\n\" + airbnb_reviews[ind])\n",
    "        print(\"Listing URL: \" + airbnb_listing_info['listing_url'])\n",
    "        print(\"Image URL: \" + airbnb_listing_info['picture_url'])\n",
    "        print(\"Score (Similarity): \" + str(score))\n",
    "        print(\"**************\")\n",
    "    else:\n",
    "        # Tripadvisor\n",
    "        listing_id = str(int(l))\n",
    "\n",
    "        ta_listing_info = ta_listings[ta_index_to_listing[int(l)]]\n",
    "        print(\"Listing ID: Tripadvisor \" + listing_id)\n",
    "        print(\"Listing Name: \" + ta_index_to_listing[int(l)])\n",
    "    #     print(\"Review : \\n\" + airbnb_reviews[ind])\n",
    "        print(\"Listing URL: \" + ta_listing_info[0])\n",
    "    #     print(\"Image URL: \" + airbnb_listing_info['picture_url'])\n",
    "        print(\"Score (Similarity): \" + str(score))\n",
    "        print(\"**************\")"
   ]
  },
  {
   "cell_type": "code",
   "execution_count": null,
   "metadata": {
    "collapsed": true
   },
   "outputs": [],
   "source": []
  }
 ],
 "metadata": {
  "kernelspec": {
   "display_name": "Python 2",
   "language": "python",
   "name": "python2"
  },
  "language_info": {
   "codemirror_mode": {
    "name": "ipython",
    "version": 2
   },
   "file_extension": ".py",
   "mimetype": "text/x-python",
   "name": "python",
   "nbconvert_exporter": "python",
   "pygments_lexer": "ipython2",
   "version": "2.7.13"
  }
 },
 "nbformat": 4,
 "nbformat_minor": 2
}
