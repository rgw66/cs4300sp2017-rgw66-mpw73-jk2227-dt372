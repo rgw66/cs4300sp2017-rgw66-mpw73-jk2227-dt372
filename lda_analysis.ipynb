{
 "cells": [
  {
   "cell_type": "code",
   "execution_count": 329,
   "metadata": {
    "collapsed": true
   },
   "outputs": [],
   "source": [
    "from __future__ import print_function\n",
    "from scipy import sparse\n",
    "from sklearn.decomposition import NMF, LatentDirichletAllocation\n",
    "from sklearn.feature_extraction.text import TfidfVectorizer, CountVectorizer\n",
    "from sklearn.manifold import TSNE\n",
    "from sklearn.preprocessing import normalize\n",
    "import numpy as np\n",
    "import pickle\n",
    "import matplotlib.pyplot as plt"
   ]
  },
  {
   "cell_type": "markdown",
   "metadata": {},
   "source": [
    "### Preface:\n",
    "Almost all the data has put in pickles, so it's just a matter of loading. If you want to see how that data was generated go to the ```lda_preprocessing``` file. Some of it is below, but that's mostly just index mapping stuff."
   ]
  },
  {
   "cell_type": "code",
   "execution_count": 330,
   "metadata": {
    "collapsed": true
   },
   "outputs": [],
   "source": [
    "ta_data = pickle.load(open(\"data/tripadvisor_reviews.pickle\", 'rb'))\n",
    "airbnb_data = pickle.load(open(\"data/airbnb_reviews.pickle\", 'rb'))"
   ]
  },
  {
   "cell_type": "code",
   "execution_count": 331,
   "metadata": {
    "collapsed": true
   },
   "outputs": [],
   "source": [
    "ta_listings = pickle.load(open(\"data/tripadvisor_hotel_info.pickle\", 'rb'))\n",
    "airbnb_listings = pickle.load(open(\"data/airbnb_listings.pickle\", 'rb'))"
   ]
  },
  {
   "cell_type": "code",
   "execution_count": 332,
   "metadata": {
    "collapsed": false
   },
   "outputs": [
    {
     "name": "stdout",
     "output_type": "stream",
     "text": [
      "(u'La Semana Hotel ', ('https://www.tripadvisor.com/Hotel_Review-g60763-d290982-Reviews-La_Semana_Hotel-New_York_City_New_York.html', '1.5 of 5 bubbles'))\n"
     ]
    }
   ],
   "source": [
    "print(ta_listings.items()[0])"
   ]
  },
  {
   "cell_type": "code",
   "execution_count": 333,
   "metadata": {
    "collapsed": false
   },
   "outputs": [
    {
     "name": "stdout",
     "output_type": "stream",
     "text": [
      "('9261217', {'listing_url': 'https://www.airbnb.com/rooms/9261217', 'picture_url': 'https://a0.muscache.com/im/pictures/346c5ca8-6deb-406c-85cc-84e74cadce4b.jpg?aki_policy=large', 'name': 'Room in luxury high rise condo'})\n"
     ]
    }
   ],
   "source": [
    "print(airbnb_listings.items()[0])"
   ]
  },
  {
   "cell_type": "code",
   "execution_count": 334,
   "metadata": {
    "collapsed": false
   },
   "outputs": [
    {
     "name": "stdout",
     "output_type": "stream",
     "text": [
      "(u'La Semana Hotel ', ('https://www.tripadvisor.com/Hotel_Review-g60763-d290982-Reviews-La_Semana_Hotel-New_York_City_New_York.html', '1.5 of 5 bubbles'))\n",
      "{'review': u\"This is place is great. Service is excellent, location is ideal, beds are comfy. Not much I would really say I didn't like. There was a woman, Gabriele I believe? who was one of the nicest hotel workers I have ever encountered. Consistently friendly and helpful. I would highly recommend this hotel.\", 'review_stars': '5 of 5 bubbles', 'hotel_name': u'Hotel Giraffe by Library Hotel Collection ', 'title': u'Awesome stay'}\n"
     ]
    }
   ],
   "source": [
    "print(ta_listings.items()[0])\n",
    "ta_listing_to_index = {}\n",
    "ta_index_to_listing = {}\n",
    "for i,d in enumerate(ta_listings.items()):\n",
    "    ta_listing_to_index[d[0]] = i\n",
    "    ta_index_to_listing[i] = d[0]\n",
    "\n",
    "print(ta_data[0])\n",
    "ta_reviews = []\n",
    "ta_adj_mat = np.zeros((len(ta_listing_to_index), len(ta_data)))\n",
    "for j,d in enumerate(ta_data):\n",
    "    i = ta_listing_to_index[d['hotel_name']]\n",
    "    ta_reviews.append(d['review'])\n",
    "    ta_adj_mat[i,j] += 1\n",
    "    \n",
    "ta_mat_index_to_listing = {}\n",
    "for i,_ in enumerate(ta_listings.items()):\n",
    "    ta_mat_index_to_listing[i] = i"
   ]
  },
  {
   "cell_type": "code",
   "execution_count": 335,
   "metadata": {
    "collapsed": false
   },
   "outputs": [
    {
     "name": "stdout",
     "output_type": "stream",
     "text": [
      "('9234415', ['Emme did everything he could to make our stay super comfortable We could check in early 3 hours earlier and late check out too at no cost The apartment has 3 cozy rooms and is very close to green line subway station Excellent location to get in a few minutes to any place in Manhattan Many many places to have lunch dinner just around the corner and super safe to walk at any time through the day or night Emme recommended lots of places to visit directions to get anywhere and was very responsive through messaging'])\n",
      "85000\n"
     ]
    }
   ],
   "source": [
    "print(airbnb_data.items()[0])\n",
    "airbnb_index_to_listing = {}\n",
    "airbnb_listing_to_mat_index = {}\n",
    "airbnb_mat_index_to_listing = {}\n",
    "airbnb_reviews = []\n",
    "i = 0\n",
    "for (ind, (listing_id, reviews)) in enumerate(airbnb_data.items()):\n",
    "    for review in reviews:\n",
    "        airbnb_reviews.append(review)\n",
    "        airbnb_listing_to_mat_index[listing_id] = ind\n",
    "        airbnb_mat_index_to_listing[ind] = listing_id\n",
    "        airbnb_index_to_listing[i] = listing_id\n",
    "        i += 1\n",
    "print(i)\n",
    "count = i\n",
    "airbnb_adj_mat = np.zeros((len(airbnb_data),i))\n",
    "for (j, l) in airbnb_index_to_listing.items():\n",
    "    airbnb_adj_mat[airbnb_listing_to_mat_index[l],j] += 1 "
   ]
  },
  {
   "cell_type": "code",
   "execution_count": 373,
   "metadata": {
    "collapsed": false
   },
   "outputs": [],
   "source": [
    "total_adj_mat = np.zeros((len(ta_listing_to_index)+len(airbnb_data),len(ta_data)+count))\n",
    "total_index_to_listing = {}\n",
    "total_mat_index_to_listing = {}\n",
    "for j,d in enumerate(ta_data):\n",
    "    i = ta_listing_to_index[d['hotel_name']]\n",
    "    ta_adj_mat[i,j] += 1\n",
    "    total_mat_index_to_listing[i] = i\n",
    "for (j, l) in airbnb_index_to_listing.items():\n",
    "    row = len(ta_listing_to_index)+airbnb_listing_to_mat_index[l]\n",
    "    col = len(ta_data)+j\n",
    "    total_adj_mat[row,col] += 1 \n",
    "    total_mat_index_to_listing[row] = l"
   ]
  },
  {
   "cell_type": "code",
   "execution_count": 337,
   "metadata": {
    "collapsed": true
   },
   "outputs": [],
   "source": [
    "ta_vectorizer = TfidfVectorizer(stop_words='english', min_df=0.05, max_df=0.9)\n",
    "airbnb_vectorizer = TfidfVectorizer(stop_words='english', min_df=0.05, max_df=0.9)\n",
    "total_vectorizer = TfidfVectorizer(stop_words='english', min_df=0.05, max_df=0.9)\n",
    "\n",
    "ta_tfidf = ta_vectorizer.fit_transform(ta_reviews)\n",
    "airbnb_tfidf = airbnb_vectorizer.fit_transform(airbnb_reviews)\n",
    "\n",
    "ta_tfidf_feature_names = ta_vectorizer.get_feature_names()\n",
    "airbnb_tfidf_feature_names = airbnb_vectorizer.get_feature_names()\n",
    "\n",
    "total_tfidf = total_vectorizer.fit_transform(ta_reviews + airbnb_reviews)\n",
    "total_tfidf_feature_names = total_vectorizer.get_feature_names()"
   ]
  },
  {
   "cell_type": "code",
   "execution_count": 391,
   "metadata": {
    "collapsed": false
   },
   "outputs": [
    {
     "name": "stdout",
     "output_type": "stream",
     "text": [
      "(78, 10)\n",
      "(46606, 10)\n",
      "(10, 227)\n",
      "\n",
      "(17720, 10)\n",
      "(85000, 10)\n",
      "(10, 156)\n",
      "\n",
      "(17798, 10)\n",
      "(131606, 10)\n",
      "(10, 184)\n"
     ]
    }
   ],
   "source": [
    "ta_lda_ht = pickle.load(open(\"data/ta_lda_ht.mat\"))\n",
    "ta_lda_dt = pickle.load(open(\"data/ta_lda_dt.mat\"))\n",
    "ta_lda_tt = pickle.load(open(\"data/ta_lda_tt.mat\"))\n",
    "airbnb_lda_ht = pickle.load(open(\"data/airbnb_lda_ht.mat\"))\n",
    "airbnb_lda_dt = pickle.load(open(\"data/airbnb_lda_dt.mat\"))\n",
    "airbnb_lda_tt = pickle.load(open(\"data/airbnb_lda_tt.mat\"))\n",
    "total_lda_ht = pickle.load(open(\"data/total_lda_ht.mat\"))\n",
    "total_lda_dt = pickle.load(open(\"data/total_lda_dt.mat\"))\n",
    "total_lda_tt = pickle.load(open(\"data/total_lda_tt.mat\"))\n",
    "\n",
    "print(ta_lda_ht.shape)\n",
    "print(ta_lda_dt.shape)\n",
    "print(ta_lda_tt.shape)\n",
    "print()\n",
    "print(airbnb_lda_ht.shape)\n",
    "print(airbnb_lda_dt.shape)\n",
    "print(airbnb_lda_tt.shape)\n",
    "print()\n",
    "print(total_lda_ht.shape)\n",
    "print(total_lda_dt.shape)\n",
    "print(total_lda_tt.shape)"
   ]
  },
  {
   "cell_type": "code",
   "execution_count": 392,
   "metadata": {
    "collapsed": false
   },
   "outputs": [],
   "source": [
    "def print_top_words(mat, feature_names, n_top_words):\n",
    "    for topic_idx, topic in enumerate(mat):\n",
    "        print(\"Rank #%d:\" % topic_idx)\n",
    "        indices = topic.argsort()[:-n_top_words - 1:-1]\n",
    "        print(\" \".join([feature_names[i] for i in indices if topic[i] > 0]))\n",
    "    print()"
   ]
  },
  {
   "cell_type": "code",
   "execution_count": 393,
   "metadata": {
    "collapsed": true
   },
   "outputs": [],
   "source": [
    "def search_lda(query, vectorizer, ht_mat, tt_mat, mat_to_listing_dict, top_k = 10):\n",
    "    vec = vectorizer.transform([query]).todense().T\n",
    "    results = np.dot(ht_mat, np.dot(tt_mat, vec)).T\n",
    "    indices = np.squeeze(np.asarray(np.argsort(results)))[::-1].T[:top_k]\n",
    "    scores = np.squeeze(np.asarray(np.sort(results)))[::-1].T[:top_k]\n",
    "\n",
    "    explanation = np.squeeze(np.asarray(np.multiply(np.dot(ht_mat, tt_mat),vec.T)[indices,:]))\n",
    "#     print_top_words(explanation, airbnb_tfidf_feature_names, 10)\n",
    "    \n",
    "    listings = np.zeros(indices.shape)\n",
    "    for i in range(indices.shape[0]):\n",
    "        listings[i] = mat_to_listing_dict[indices[i]]\n",
    "    return (listings.tolist(), indices.tolist(), scores.tolist())"
   ]
  },
  {
   "cell_type": "code",
   "execution_count": 394,
   "metadata": {
    "collapsed": false
   },
   "outputs": [],
   "source": [
    "listings, indices, scores = search_lda(\"quiet neat cozy clean comfortable close\", \n",
    "                                       airbnb_vectorizer, \n",
    "                                       airbnb_lda_ht, \n",
    "                                       airbnb_lda_tt, \n",
    "                                       airbnb_mat_index_to_listing)"
   ]
  },
  {
   "cell_type": "code",
   "execution_count": 395,
   "metadata": {
    "collapsed": false
   },
   "outputs": [
    {
     "name": "stdout",
     "output_type": "stream",
     "text": [
      "Listing ID: 8343222\n",
      "Listing Name: New Apartment, Close to Ferry\n",
      "Listing URL: https://www.airbnb.com/rooms/8343222\n",
      "Image URL: https://a0.muscache.com/im/pictures/d5a143d1-233a-447e-8467-b36f934c523b.jpg?aki_policy=large\n",
      "Score (Similarity): 0.552498986667\n",
      "**************\n",
      "Listing ID: 175069\n",
      "Listing Name: Room Right by Columbia University\n",
      "Listing URL: https://www.airbnb.com/rooms/175069\n",
      "Image URL: https://a0.muscache.com/im/pictures/1840727/f58bbb32_original.jpg?aki_policy=large\n",
      "Score (Similarity): 0.548781373963\n",
      "**************\n",
      "Listing ID: 4784728\n",
      "Listing Name: ARTIST LOFT 1 - INSTANT BOOK NOW :)\n",
      "Listing URL: https://www.airbnb.com/rooms/4784728\n",
      "Image URL: https://a0.muscache.com/im/pictures/63652808/6741155c_original.jpg?aki_policy=large\n",
      "Score (Similarity): 0.545824865766\n",
      "**************\n",
      "Listing ID: 10444139\n",
      "Listing Name: Budget Room in Brooklyn&Breakfast hosts' coop\n",
      "Listing URL: https://www.airbnb.com/rooms/10444139\n",
      "Image URL: https://a0.muscache.com/im/pictures/0ac2dbd6-83d4-4dda-b126-705ba26d9edd.jpg?aki_policy=large\n",
      "Score (Similarity): 0.544656973676\n",
      "**************\n",
      "Listing ID: 828796\n",
      "Listing Name: Gorgeous 2BR Apt in Brownstone\n",
      "Listing URL: https://www.airbnb.com/rooms/828796\n",
      "Image URL: https://a0.muscache.com/im/pictures/12035067/aff50f0e_original.jpg?aki_policy=large\n",
      "Score (Similarity): 0.542941528981\n",
      "**************\n",
      "Listing ID: 202716\n",
      "Listing Name: Quaint Retreat ...live like a local\n",
      "Listing URL: https://www.airbnb.com/rooms/202716\n",
      "Image URL: https://a0.muscache.com/im/pictures/1978962/245b7944_original.jpg?aki_policy=large\n",
      "Score (Similarity): 0.540349250535\n",
      "**************\n",
      "Listing ID: 1750527\n",
      "Listing Name: Modern, Sunny Duplex PENTHOUSE  w/ BALCONY\n",
      "Listing URL: https://www.airbnb.com/rooms/1750527\n",
      "Image URL: https://a0.muscache.com/im/pictures/25350485/146cd1fe_original.jpg?aki_policy=large\n",
      "Score (Similarity): 0.540251605969\n",
      "**************\n",
      "Listing ID: 7043746\n",
      "Listing Name: 2 block walk from the beach in NYC\n",
      "Listing URL: https://www.airbnb.com/rooms/7043746\n",
      "Image URL: https://a0.muscache.com/im/pictures/89348885/4cd648f6_original.jpg?aki_policy=large\n",
      "Score (Similarity): 0.539334043444\n",
      "**************\n",
      "Listing ID: 1445542\n",
      "Listing Name: Huge Gorgeous Artists Loft (Room)\n",
      "Listing URL: https://www.airbnb.com/rooms/1445542\n",
      "Image URL: https://a0.muscache.com/im/pictures/21530084/fcc4dd87_original.jpg?aki_policy=large\n",
      "Score (Similarity): 0.539266001475\n",
      "**************\n",
      "Listing ID: 1817510\n",
      "Listing Name: Skylight BR in Gorgeous Rooftop Apt\n",
      "Listing URL: https://www.airbnb.com/rooms/1817510\n",
      "Image URL: https://a0.muscache.com/im/pictures/28664060/da55b525_original.jpg?aki_policy=large\n",
      "Score (Similarity): 0.537149001059\n",
      "**************\n"
     ]
    }
   ],
   "source": [
    "for (l, ind, score) in zip(listings, indices, scores):\n",
    "    listing_id = str(int(l))\n",
    "    airbnb_listing_info = airbnb_listings[listing_id]\n",
    "    print(\"Listing ID: \" + listing_id)\n",
    "    print(\"Listing Name: \" + airbnb_listing_info['name'])\n",
    "#     print(\"Review : \\n\" + airbnb_reviews[ind])\n",
    "    print(\"Listing URL: \" + airbnb_listing_info['listing_url'])\n",
    "    print(\"Image URL: \" + airbnb_listing_info['picture_url'])\n",
    "    print(\"Score (Similarity): \" + str(score))\n",
    "    print(\"**************\")"
   ]
  },
  {
   "cell_type": "code",
   "execution_count": 396,
   "metadata": {
    "collapsed": false
   },
   "outputs": [],
   "source": [
    "listings, indices, scores = search_lda(\"comfortable\", \n",
    "                                       ta_vectorizer, \n",
    "                                       ta_lda_ht, \n",
    "                                       ta_lda_tt, \n",
    "                                       ta_mat_index_to_listing)"
   ]
  },
  {
   "cell_type": "code",
   "execution_count": 397,
   "metadata": {
    "collapsed": false
   },
   "outputs": [
    {
     "name": "stdout",
     "output_type": "stream",
     "text": [
      "Listing Name: Cassa Hotel Times Square \n",
      "Listing URL: https://www.tripadvisor.com/Hotel_Review-g60763-d7148761-Reviews-Cassa_Hotel_Times_Square-New_York_City_New_York.html\n",
      "Score (Similarity): 0.25104141804\n",
      "**************\n",
      "Listing Name: The Tuscany - A St Giles Signature Hotel \n",
      "Listing URL: https://www.tripadvisor.com/Hotel_Review-g60763-d93431-Reviews-The_Tuscany_A_St_Giles_Signature_Hotel-New_York_City_New_York.html\n",
      "Score (Similarity): 0.248540275734\n",
      "**************\n",
      "Listing Name: Hotel Chandler \n",
      "Listing URL: https://www.tripadvisor.com/Hotel_Review-g60763-d223024-Reviews-Hotel_Chandler-New_York_City_New_York.html\n",
      "Score (Similarity): 0.246744821335\n",
      "**************\n",
      "Listing Name: Kimpton Ink48 Hotel \n",
      "Listing URL: https://www.tripadvisor.com/Hotel_Review-g60763-d1158753-Reviews-Kimpton_Ink48_Hotel-New_York_City_New_York.html\n",
      "Score (Similarity): 0.246473069371\n",
      "**************\n",
      "Listing Name: SIXTY SoHo \n",
      "Listing URL: https://www.tripadvisor.com/Hotel_Review-g60763-d93398-Reviews-SIXTY_SoHo-New_York_City_New_York.html\n",
      "Score (Similarity): 0.244368999145\n",
      "**************\n",
      "Listing Name: Executive Hotel LeSoleil \n",
      "Listing URL: https://www.tripadvisor.com/Hotel_Review-g60763-d7816364-Reviews-Executive_Hotel_LeSoleil-New_York_City_New_York.html\n",
      "Score (Similarity): 0.24383409673\n",
      "**************\n",
      "Listing Name: Gardens NYC–an Affinia hotel \n",
      "Listing URL: https://www.tripadvisor.com/Hotel_Review-g60763-d93467-Reviews-Gardens_NYC_an_Affinia_hotel-New_York_City_New_York.html\n",
      "Score (Similarity): 0.241225325792\n",
      "**************\n",
      "Listing Name: Hyatt Union Square New York \n",
      "Listing URL: https://www.tripadvisor.com/Hotel_Review-g60763-d3533197-Reviews-Hyatt_Union_Square_New_York-New_York_City_New_York.html\n",
      "Score (Similarity): 0.240156048832\n",
      "**************\n",
      "Listing Name: The High Line Hotel \n",
      "Listing URL: https://www.tripadvisor.com/Hotel_Review-g60763-d4283443-Reviews-The_High_Line_Hotel-New_York_City_New_York.html\n",
      "Score (Similarity): 0.237662607575\n",
      "**************\n",
      "Listing Name: The Mark \n",
      "Listing URL: https://www.tripadvisor.com/Hotel_Review-g60763-d112052-Reviews-The_Mark-New_York_City_New_York.html\n",
      "Score (Similarity): 0.237330709335\n",
      "**************\n"
     ]
    }
   ],
   "source": [
    "for (l, ind, score) in zip(listings, indices, scores):\n",
    "    listing_id = str(int(l))\n",
    "    \n",
    "    ta_listing_info = ta_listings[ta_index_to_listing[int(l)]]\n",
    "#     print(\"Listing ID: \" + listing_id)\n",
    "    print(\"Listing Name: \" + ta_index_to_listing[int(l)])\n",
    "#     print(\"Review : \\n\" + airbnb_reviews[ind])\n",
    "    print(\"Listing URL: \" + ta_listing_info[0])\n",
    "#     print(\"Image URL: \" + airbnb_listing_info['picture_url'])\n",
    "    print(\"Score (Similarity): \" + str(score))\n",
    "    print(\"**************\")"
   ]
  },
  {
   "cell_type": "code",
   "execution_count": 400,
   "metadata": {
    "collapsed": false
   },
   "outputs": [],
   "source": [
    "listings, indices, scores = search_lda(\"comfortable\", \n",
    "                                       total_vectorizer, \n",
    "                                       total_lda_ht, \n",
    "                                       total_lda_tt, \n",
    "                                       total_mat_index_to_listing)"
   ]
  },
  {
   "cell_type": "markdown",
   "metadata": {},
   "source": [
    "# Analysis\n",
    "Looks like Airbnb is dominating, even though everything is normalized... could it be quantity of listings in Tripadvisor that just gives the edge to Airbnb because there's higher probability? I can't find any query where Tripadvisor does better.\n",
    "\n",
    "I think this is where SVD and related words can come in clutch - if we expand the query using more related words, we have a higher probability of roping in Tripadvisor listings for consideration. \n",
    "\n",
    "I still can't figure out how we can search broadly on a topic (i.e. a dimension in the scope of the matrices) - matrix multiplication doesn't quite achieve that; but the downside of that would be that if we search on something like \"quiet\" we also get things like \"noise\"...\n",
    "\n",
    "Of those two alternatives, this seems easier to handle, especially if we can get the scale of returned results / figure out how to incorporate related words that also reflect the same polarity."
   ]
  },
  {
   "cell_type": "code",
   "execution_count": 399,
   "metadata": {
    "collapsed": false
   },
   "outputs": [
    {
     "name": "stdout",
     "output_type": "stream",
     "text": [
      "Listing ID: Airbnb 962045\n",
      "Listing Name (Airbnb): Room & Coffee, 3 blocks to L Train!\n",
      "Listing URL: https://www.airbnb.com/rooms/962045\n",
      "Image URL: https://a0.muscache.com/im/pictures/33443716/89d3fff5_original.jpg?aki_policy=large\n",
      "Score (Similarity): 0.295406313607\n",
      "**************\n",
      "Listing ID: Airbnb 240918\n",
      "Listing Name (Airbnb): W4 Clean and Cozy 1 minute to Metro & Park\n",
      "Listing URL: https://www.airbnb.com/rooms/240918\n",
      "Image URL: https://a0.muscache.com/im/pictures/15584434/250e87c7_original.jpg?aki_policy=large\n",
      "Score (Similarity): 0.293380852123\n",
      "**************\n",
      "Listing ID: Airbnb 476919\n",
      "Listing Name (Airbnb): Upper East Side City Cottage Near Parks Museums\n",
      "Listing URL: https://www.airbnb.com/rooms/476919\n",
      "Image URL: https://a0.muscache.com/im/pictures/fb0dff7f-9bd5-43a2-92eb-0a8682dcf654.jpg?aki_policy=large\n",
      "Score (Similarity): 0.293295082764\n",
      "**************\n",
      "Listing ID: Airbnb 1654417\n",
      "Listing Name (Airbnb): Great Bedroom in Worlds Best 'Hood!\n",
      "Listing URL: https://www.airbnb.com/rooms/1654417\n",
      "Image URL: https://a0.muscache.com/im/pictures/59233725/4d34b6a7_original.jpg?aki_policy=large\n",
      "Score (Similarity): 0.293175819747\n",
      "**************\n",
      "Listing ID: Airbnb 546383\n",
      "Listing Name (Airbnb): My Little Guest Room in Flushing\n",
      "Listing URL: https://www.airbnb.com/rooms/546383\n",
      "Image URL: https://a0.muscache.com/im/pictures/27127830/2fcb86d6_original.jpg?aki_policy=large\n",
      "Score (Similarity): 0.292870609667\n",
      "**************\n",
      "Listing ID: Airbnb 12592427\n",
      "Listing Name (Airbnb): Lovely and  new apartment\n",
      "Listing URL: https://www.airbnb.com/rooms/12592427\n",
      "Image URL: https://a0.muscache.com/im/pictures/46882baa-f1b5-4503-ac37-f6081d6f99e5.jpg?aki_policy=large\n",
      "Score (Similarity): 0.292740768766\n",
      "**************\n",
      "Listing ID: Airbnb 673248\n",
      "Listing Name (Airbnb): Secret Garden Big and Comfortable\n",
      "Listing URL: https://www.airbnb.com/rooms/673248\n",
      "Image URL: https://a0.muscache.com/im/pictures/12408480/ef0a8f14_original.jpg?aki_policy=large\n",
      "Score (Similarity): 0.291841709346\n",
      "**************\n",
      "Listing ID: Airbnb 2284027\n",
      "Listing Name (Airbnb): Modern, Well-Appointed Room in NYC!\n",
      "Listing URL: https://www.airbnb.com/rooms/2284027\n",
      "Image URL: https://a0.muscache.com/im/pictures/60417996/4d777714_original.jpg?aki_policy=large\n",
      "Score (Similarity): 0.291742902368\n",
      "**************\n",
      "Listing ID: Airbnb 276482\n",
      "Listing Name (Airbnb): Comfortable Manhattanville.\n",
      "Listing URL: https://www.airbnb.com/rooms/276482\n",
      "Image URL: https://a0.muscache.com/im/pictures/11558452/afb26a43_original.jpg?aki_policy=large\n",
      "Score (Similarity): 0.291240342892\n",
      "**************\n",
      "Listing ID: Airbnb 2623348\n",
      "Listing Name (Airbnb): Charming Small Private Bed in 6 Floor Walkup\n",
      "Listing URL: https://www.airbnb.com/rooms/2623348\n",
      "Image URL: https://a0.muscache.com/im/pictures/64019951/09a7c37d_original.jpg?aki_policy=large\n",
      "Score (Similarity): 0.290498443544\n",
      "**************\n"
     ]
    }
   ],
   "source": [
    "threshold = (ta_lda_ht.shape)[0]\n",
    "for (l, ind, score) in zip(listings, indices, scores):\n",
    "    if (ind > threshold):\n",
    "        # Airbnb\n",
    "        listing_id = str(int(l))\n",
    "        airbnb_listing_info = airbnb_listings[listing_id]\n",
    "        print(\"Listing ID: Airbnb \" + listing_id)\n",
    "        print(\"Listing Name (Airbnb): \" + airbnb_listing_info['name'])\n",
    "    #     print(\"Review : \\n\" + airbnb_reviews[ind])\n",
    "        print(\"Listing URL: \" + airbnb_listing_info['listing_url'])\n",
    "        print(\"Image URL: \" + airbnb_listing_info['picture_url'])\n",
    "        print(\"Score (Similarity): \" + str(score))\n",
    "        print(\"**************\")\n",
    "    else:\n",
    "        # Tripadvisor\n",
    "        listing_id = str(int(l))\n",
    "\n",
    "        ta_listing_info = ta_listings[ta_index_to_listing[int(l)]]\n",
    "        print(\"Listing ID: Tripadvisor \" + listing_id)\n",
    "        print(\"Listing Name: \" + ta_index_to_listing[int(l)])\n",
    "    #     print(\"Review : \\n\" + airbnb_reviews[ind])\n",
    "        print(\"Listing URL: \" + ta_listing_info[0])\n",
    "    #     print(\"Image URL: \" + airbnb_listing_info['picture_url'])\n",
    "        print(\"Score (Similarity): \" + str(score))\n",
    "        print(\"**************\")"
   ]
  },
  {
   "cell_type": "code",
   "execution_count": null,
   "metadata": {
    "collapsed": true
   },
   "outputs": [],
   "source": []
  }
 ],
 "metadata": {
  "kernelspec": {
   "display_name": "Python 2",
   "language": "python",
   "name": "python2"
  },
  "language_info": {
   "codemirror_mode": {
    "name": "ipython",
    "version": 2
   },
   "file_extension": ".py",
   "mimetype": "text/x-python",
   "name": "python",
   "nbconvert_exporter": "python",
   "pygments_lexer": "ipython2",
   "version": "2.7.13"
  }
 },
 "nbformat": 4,
 "nbformat_minor": 2
}
