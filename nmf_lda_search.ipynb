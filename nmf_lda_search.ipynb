{
 "cells": [
  {
   "cell_type": "code",
   "execution_count": 2,
   "metadata": {
    "collapsed": true
   },
   "outputs": [],
   "source": [
    "from __future__ import print_function\n",
    "from sklearn.decomposition import NMF, LatentDirichletAllocation\n",
    "from sklearn.feature_extraction.text import TfidfVectorizer, CountVectorizer\n",
    "from sklearn.manifold import TSNE\n",
    "from sklearn.preprocessing import normalize\n",
    "import numpy as np\n",
    "import pickle\n",
    "import matplotlib.pyplot as plt"
   ]
  },
  {
   "cell_type": "code",
   "execution_count": 3,
   "metadata": {
    "collapsed": false
   },
   "outputs": [],
   "source": [
    "ta_data = pickle.load(open(\"data/tripadvisor_reviews.pickle\", 'rb'))\n",
    "airbnb_data = pickle.load(open(\"data/airbnb_reviews.pickle\", 'rb'))"
   ]
  },
  {
   "cell_type": "code",
   "execution_count": 4,
   "metadata": {
    "collapsed": true
   },
   "outputs": [],
   "source": [
    "ta_listings = pickle.load(open(\"data/tripadvisor_hotel_info.pickle\", 'rb'))"
   ]
  },
  {
   "cell_type": "code",
   "execution_count": 5,
   "metadata": {
    "collapsed": false
   },
   "outputs": [
    {
     "name": "stdout",
     "output_type": "stream",
     "text": [
      "{'review': u\"This is place is great. Service is excellent, location is ideal, beds are comfy. Not much I would really say I didn't like. There was a woman, Gabriele I believe? who was one of the nicest hotel workers I have ever encountered. Consistently friendly and helpful. I would highly recommend this hotel.\", 'review_stars': '5 of 5 bubbles', 'hotel_name': u'Hotel Giraffe by Library Hotel Collection ', 'title': u'Awesome stay'}\n"
     ]
    }
   ],
   "source": [
    "print(ta_data[0])\n",
    "ta_reviews = []\n",
    "for d in ta_data:\n",
    "    ta_reviews.append(d['review'])"
   ]
  },
  {
   "cell_type": "code",
   "execution_count": 6,
   "metadata": {
    "collapsed": false
   },
   "outputs": [
    {
     "name": "stdout",
     "output_type": "stream",
     "text": [
      "('9234415', ['Emme did everything he could to make our stay super comfortable We could check in early 3 hours earlier and late check out too at no cost The apartment has 3 cozy rooms and is very close to green line subway station Excellent location to get in a few minutes to any place in Manhattan Many many places to have lunch dinner just around the corner and super safe to walk at any time through the day or night Emme recommended lots of places to visit directions to get anywhere and was very responsive through messaging'])\n"
     ]
    }
   ],
   "source": [
    "print(airbnb_data.items()[0])\n",
    "airbnb_index_to_listing = {}\n",
    "airbnb_reviews = []\n",
    "i = 0\n",
    "for (listing_id, reviews) in airbnb_data.items():\n",
    "    for review in reviews:\n",
    "        airbnb_reviews.append(review)\n",
    "        airbnb_index_to_listing[i] = listing_id\n",
    "        i += 1"
   ]
  },
  {
   "cell_type": "code",
   "execution_count": 7,
   "metadata": {
    "collapsed": true
   },
   "outputs": [],
   "source": [
    "ta_vectorizer = TfidfVectorizer(stop_words='english', min_df=0.05, max_df=0.9)\n",
    "airbnb_vectorizer = TfidfVectorizer(stop_words='english', min_df=0.05, max_df=0.9)"
   ]
  },
  {
   "cell_type": "code",
   "execution_count": 8,
   "metadata": {
    "collapsed": true
   },
   "outputs": [],
   "source": [
    "ta_tfidf = ta_vectorizer.fit_transform(ta_reviews)"
   ]
  },
  {
   "cell_type": "code",
   "execution_count": 9,
   "metadata": {
    "collapsed": true
   },
   "outputs": [],
   "source": [
    "airbnb_tfidf = airbnb_vectorizer.fit_transform(airbnb_reviews)"
   ]
  },
  {
   "cell_type": "code",
   "execution_count": 10,
   "metadata": {
    "collapsed": false
   },
   "outputs": [
    {
     "name": "stdout",
     "output_type": "stream",
     "text": [
      "[u'10', u'able', u'air', u'amazing', u'amenities', u'area', u'arrived', u'ask', u'asked', u'available', u'avenue', u'away', u'bad', u'bar', u'bathroom', u'beautiful', u'bed', u'beds', u'best', u'better', u'big', u'bit', u'block', u'blocks', u'booked', u'breakfast', u'broadway', u'building', u'business', u'called', u'came', u'center', u'central', u'check', u'checked', u'city', u'clean', u'close', u'coffee', u'come', u'comfortable', u'complimentary', u'concierge', u'convenient', u'corner', u'couldn', u'couple', u'day', u'days', u'definitely', u'desk', u'did', u'didn', u'distance', u'don', u'door', u'double', u'early', u'easy', u'eat', u'empire', u'end', u'enjoyed', u'especially', u'evening', u'excellent', u'expect', u'expensive', u'experience', u'extra', u'extremely', u'family', u'fantastic', u'far', u'feel', u'felt', u'fine', u'floor', u'food', u'free', u'friendly', u'given', u'going', u'good', u'got', u'great', u'guests', u'happy', u'having', u'help', u'helpful', u'high', u'highly', u'home', u'hot', u'hotel', u'hotels', u'hour', u'huge', u'husband', u'just', u'king', u'know', u'large', u'late', u'left', u'like', u'little', u'lobby', u'located', u'location', u'long', u'look', u'looking', u'lot', u'lots', u'lounge', u'love', u'loved', u'lovely', u'make', u'manhattan', u'minute', u'minutes', u'modern', u'money', u'morning', u'near', u'need', u'needed', u'new', u'nice', u'night', u'nights', u'noise', u'noisy', u'ny', u'nyc', u'old', u'open', u'outside', u'overall', u'park', u'penn', u'people', u'perfect', u'place', u'places', u'pleasant', u'plenty', u'pretty', u'price', u'problem', u'quiet', u'quite', u'really', u'reception', u'recommend', u'restaurant', u'restaurants', u'return', u'reviews', u'right', u'rooftop', u'room', u'rooms', u'safe', u'said', u'say', u'second', u'service', u'shopping', u'short', u'shower', u'size', u'sleep', u'small', u'space', u'spacious', u'special', u'square', u'staff', u'state', u'station', u'stay', u'stayed', u'staying', u'street', u'subway', u'suite', u'super', u'sure', u'tea', u'thing', u'things', u'think', u'time', u'times', u'told', u'took', u'trip', u'tv', u'upgraded', u'use', u'used', u'value', u've', u'view', u'views', u'visit', u'wait', u'walk', u'walking', u'want', u'wanted', u'wasn', u'water', u'way', u'week', u'weekend', u'went', u'wifi', u'wine', u'wonderful', u'work', u'year', u'york']\n"
     ]
    }
   ],
   "source": [
    "ta_tfidf_feature_names = ta_vectorizer.get_feature_names()\n",
    "print(ta_tfidf_feature_names)"
   ]
  },
  {
   "cell_type": "code",
   "execution_count": 11,
   "metadata": {
    "collapsed": false
   },
   "outputs": [
    {
     "name": "stdout",
     "output_type": "stream",
     "text": [
      "[u'10', u'able', u'access', u'accommodating', u'airbnb', u'amazing', u'apartment', u'area', u'arrival', u'arrived', u'available', u'away', u'awesome', u'bars', u'bathroom', u'beautiful', u'bed', u'bedroom', u'best', u'better', u'big', u'bit', u'blocks', u'brooklyn', u'building', u'central', u'check', u'city', u'clean', u'close', u'coffee', u'come', u'comfortable', u'communication', u'convenient', u'couple', u'cozy', u'day', u'days', u'definitely', u'described', u'did', u'didn', u'distance', u'easy', u'enjoyed', u'exactly', u'excellent', u'experience', u'extremely', u'family', u'fantastic', u'feel', u'felt', u'floor', u'food', u'friendly', u'gave', u'good', u'got', u'great', u'help', u'helpful', u'highly', u'home', u'host', u'hosts', u'house', u'just', u'kind', u'kitchen', u'late', u'left', u'like', u'little', u'living', u'located', u'location', u'looking', u'lot', u'lots', u'loved', u'lovely', u'make', u'manhattan', u'meet', u'met', u'metro', u'minute', u'minutes', u'near', u'nearby', u'need', u'needed', u'neighborhood', u'neighbourhood', u'new', u'nice', u'night', u'nights', u'ny', u'nyc', u'overall', u'park', u'people', u'perfect', u'person', u'pictures', u'place', u'places', u'plenty', u'provided', u'questions', u'quick', u'quiet', u'quite', u'really', u'recommend', u'responsive', u'restaurants', u'right', u'room', u'safe', u'shops', u'short', u'small', u'space', u'spacious', u'square', u'station', u'stay', u'stayed', u'staying', u'street', u'subway', u'super', u'sure', u'thank', u'thanks', u'things', u'time', u'times', u'towels', u'train', u'trip', u'use', u'visit', u'walk', u'walking', u'want', u'warm', u'way', u'welcome', u'welcoming', u'wonderful', u'york']\n"
     ]
    }
   ],
   "source": [
    "airbnb_tfidf_feature_names = airbnb_vectorizer.get_feature_names()\n",
    "print(airbnb_tfidf_feature_names)"
   ]
  },
  {
   "cell_type": "code",
   "execution_count": 12,
   "metadata": {
    "collapsed": true
   },
   "outputs": [],
   "source": [
    "def print_top_words(model, feature_names, n_top_words):\n",
    "    for topic_idx, topic in enumerate(model.components_):\n",
    "        print(\"Topic #%d:\" % topic_idx)\n",
    "        print(\" \".join([feature_names[i]\n",
    "                        for i in topic.argsort()[:-n_top_words - 1:-1]]))\n",
    "    print()"
   ]
  },
  {
   "cell_type": "code",
   "execution_count": 13,
   "metadata": {
    "collapsed": false
   },
   "outputs": [],
   "source": [
    "ta_nmf = NMF(n_components=10, random_state=1,alpha=.1, l1_ratio=.5).fit(ta_tfidf)"
   ]
  },
  {
   "cell_type": "code",
   "execution_count": 14,
   "metadata": {
    "collapsed": true
   },
   "outputs": [],
   "source": [
    "airbnb_nmf = NMF(n_components=10, random_state=1,alpha=.1, l1_ratio=.5).fit(airbnb_tfidf)"
   ]
  },
  {
   "cell_type": "code",
   "execution_count": 15,
   "metadata": {
    "collapsed": false
   },
   "outputs": [
    {
     "name": "stdout",
     "output_type": "stream",
     "text": [
      "Topic #0:\n",
      "hotel staff stay nyc friendly helpful stayed comfortable clean definitely recommend perfect rooms wonderful location spacious extremely highly visit loved\n",
      "Topic #1:\n",
      "room bed floor bathroom shower small night noise view water did size king double nights street booked large comfortable check\n",
      "Topic #2:\n",
      "hotel like just time check night did place desk day didn stay told don got people really said went make\n",
      "Topic #3:\n",
      "new york city hotel visit trip stay time staff hotels stayed perfect recommend year staying helpful best return fantastic friendly\n",
      "Topic #4:\n",
      "good rooms small hotel location price breakfast clean lobby bit size value quite area really hotels overall wifi little beds\n",
      "Topic #5:\n",
      "square times central park walk subway close away blocks walking station distance street restaurants block easy location broadway avenue just\n",
      "Topic #6:\n",
      "breakfast empire state building free coffee day tea hotel lovely wine complimentary view evening available walk wifi morning reception recommend\n",
      "Topic #7:\n",
      "great location place bar stay views really view staff restaurants time loved value rooms little fantastic food super rooftop city\n",
      "Topic #8:\n",
      "service excellent restaurant bar food room concierge desk experience best wonderful business amazing high hotels beautiful rooftop views wine special\n",
      "Topic #9:\n",
      "nice bar really area lobby restaurant wine rooftop little bit view modern big lounge place enjoyed bathroom overall breakfast super\n",
      "\n"
     ]
    }
   ],
   "source": [
    "print_top_words(ta_nmf, ta_tfidf_feature_names, 20)"
   ]
  },
  {
   "cell_type": "code",
   "execution_count": 16,
   "metadata": {
    "collapsed": false
   },
   "outputs": [
    {
     "name": "stdout",
     "output_type": "stream",
     "text": [
      "Topic #0:\n",
      "apartment stay clean recommend comfortable perfect nyc location located needed host definitely building spacious highly helpful wonderful questions exactly stayed\n",
      "Topic #1:\n",
      "room bathroom bed kitchen good clean living comfortable small night nice didn bedroom use space did people big bit little\n",
      "Topic #2:\n",
      "place stay recommend definitely clean nyc perfect highly looking super needed city amazing stayed comfortable need staying helpful host just\n",
      "Topic #3:\n",
      "new york city time visit trip perfect experience come best stay amazing staying days day thank want subway square lot\n",
      "Topic #4:\n",
      "really nice good enjoyed lot time close helpful like big didn metro neighbourhood people come gave thanks ny friendly places\n",
      "Topic #5:\n",
      "check easy late time night accommodating times didn day super arrived did able communication sure location arrival meet convenient access\n",
      "Topic #6:\n",
      "subway walk manhattan away restaurants minutes just park station walking close brooklyn street easy neighborhood good blocks shops train distance\n",
      "Topic #7:\n",
      "great location host experience time stay restaurants space easy thanks bars close lots super definitely staying places area fantastic overall\n",
      "Topic #8:\n",
      "home feel like felt experience wonderful time airbnb welcome staying make thank beautiful amazing comfortable best lovely neighborhood stay hosts\n",
      "Topic #9:\n",
      "house clean stay family kind beautiful station ny near recommend help minutes metro helpful located host stayed people subway need\n",
      "\n"
     ]
    }
   ],
   "source": [
    "print_top_words(airbnb_nmf, airbnb_tfidf_feature_names, 20)"
   ]
  },
  {
   "cell_type": "code",
   "execution_count": 17,
   "metadata": {
    "collapsed": true
   },
   "outputs": [],
   "source": [
    "ta_lda = LatentDirichletAllocation(n_topics=10, max_iter=5,\n",
    "                                learning_method='online',\n",
    "                                learning_offset=10.,\n",
    "                                random_state=0).fit(ta_tfidf)"
   ]
  },
  {
   "cell_type": "code",
   "execution_count": 18,
   "metadata": {
    "collapsed": true
   },
   "outputs": [],
   "source": [
    "airbnb_lda = LatentDirichletAllocation(n_topics=10, max_iter=5,\n",
    "                                learning_method='online',\n",
    "                                learning_offset=10.,\n",
    "                                random_state=0).fit(airbnb_tfidf)"
   ]
  },
  {
   "cell_type": "code",
   "execution_count": 19,
   "metadata": {
    "collapsed": false
   },
   "outputs": [
    {
     "name": "stdout",
     "output_type": "stream",
     "text": [
      "Topic #0:\n",
      "hotel coffee wine breakfast room staff great tea free complimentary lobby evening nice helpful friendly stay rooftop bar day lovely\n",
      "Topic #1:\n",
      "hotel like room home rooms place stay old don staff just feel great say really know new good time small\n",
      "Topic #2:\n",
      "state empire building view breakfast views close near central lovely corner square big problem used wait end amazing shower station\n",
      "Topic #3:\n",
      "hotel rooms great hotels value manhattan location clean staff stay room business nyc good small stayed ny price friendly place\n",
      "Topic #4:\n",
      "room hotel great stay staff amazing suite views new stayed view upgraded extremely york helpful definitely city friendly clean location\n",
      "Topic #5:\n",
      "hotel park central great square walking subway room location distance times blocks restaurants staff stay close rooms good clean walk\n",
      "Topic #6:\n",
      "room hotel check told night desk did asked stay said got didn day time just rooms bed called booked arrived\n",
      "Topic #7:\n",
      "station hotel penn room square walk great times location minute 10 minutes good subway new staff stay clean street breakfast\n",
      "Topic #8:\n",
      "hotel great staff stay wonderful service new location love nyc time york friendly helpful perfect beautiful rooms concierge room desk\n",
      "Topic #9:\n",
      "room hotel small good bathroom bed shower rooms great nice floor location noise night clean stay staff just lobby water\n",
      "\n"
     ]
    }
   ],
   "source": [
    "print_top_words(ta_lda, ta_tfidf_feature_names, 20)"
   ]
  },
  {
   "cell_type": "code",
   "execution_count": 20,
   "metadata": {
    "collapsed": false
   },
   "outputs": [
    {
     "name": "stdout",
     "output_type": "stream",
     "text": [
      "Topic #0:\n",
      "room apartment bathroom bedroom kitchen living great small bed nice place floor good stay clean building location comfortable bit really\n",
      "Topic #1:\n",
      "york new apartment stay great place city time really neighbourhood perfect visit lovely gave host definitely helpful recommend come trip\n",
      "Topic #2:\n",
      "check great apartment place stay didn night meet late clean time nice room did location responsive host got arrived good\n",
      "Topic #3:\n",
      "apartment great excellent family access stay easy plenty nearby place space location clean comfortable subway neighborhood lovely restaurants host brooklyn\n",
      "Topic #4:\n",
      "apartment place stay great exactly looking extremely recommend clean host location nyc definitely accommodating described highly easy perfect questions comfortable\n",
      "Topic #5:\n",
      "make sure way stay apartment great place help feel welcome home host needed comfortable time room clean really did nice\n",
      "Topic #6:\n",
      "home place stay great amazing experience like better apartment best feel airbnb time felt host nyc staying clean really thank\n",
      "Topic #7:\n",
      "apartment walk park central 10 great square subway minute minutes away times place stay location just blocks clean manhattan nice\n",
      "Topic #8:\n",
      "distance restaurants walking great apartment bars shops stay place subway close location lots easy short clean brooklyn manhattan host coffee\n",
      "Topic #9:\n",
      "house nice really place good room metro station stay great subway apartment clean manhattan near time lot close ny minutes\n",
      "\n"
     ]
    }
   ],
   "source": [
    "print_top_words(airbnb_lda, airbnb_tfidf_feature_names, 20)"
   ]
  },
  {
   "cell_type": "code",
   "execution_count": 21,
   "metadata": {
    "collapsed": false
   },
   "outputs": [],
   "source": [
    "ta_lda_topic_term_matrix = ta_lda.components_\n",
    "ta_lda_doc_topic_matrix = ta_lda.transform(ta_tfidf)"
   ]
  },
  {
   "cell_type": "code",
   "execution_count": 37,
   "metadata": {
    "collapsed": true
   },
   "outputs": [],
   "source": [
    "ta_lda_topic_term_matrix.dump(\"ta_lda_tt.mat\")\n",
    "ta_lda_doc_topic_matrix.dump(\"ta_lda_dt.mat\")"
   ]
  },
  {
   "cell_type": "code",
   "execution_count": 22,
   "metadata": {
    "collapsed": true
   },
   "outputs": [],
   "source": [
    "airbnb_lda_topic_term_matrix = airbnb_lda.components_\n",
    "airbnb_lda_doc_topic_matrix = airbnb_lda.transform(airbnb_tfidf)"
   ]
  },
  {
   "cell_type": "code",
   "execution_count": 38,
   "metadata": {
    "collapsed": true
   },
   "outputs": [],
   "source": [
    "airbnb_lda_topic_term_matrix.dump(\"airbnb_lda_tt.mat\")\n",
    "airbnb_lda_doc_topic_matrix.dump(\"airbnb_lda_dt.mat\")"
   ]
  },
  {
   "cell_type": "code",
   "execution_count": 39,
   "metadata": {
    "collapsed": true
   },
   "outputs": [],
   "source": [
    "ta_lda_dt = pickle.load(open(\"data/ta_lda_dt.mat\"))\n",
    "ta_lda_tt = pickle.load(open(\"data/ta_lda_tt.mat\"))\n",
    "airbnb_lda_dt = pickle.load(open(\"data/airbnb_lda_dt.mat\"))\n",
    "airbnb_lda_tt = pickle.load(open(\"data/airbnb_lda_tt.mat\"))"
   ]
  },
  {
   "cell_type": "code",
   "execution_count": 40,
   "metadata": {
    "collapsed": false
   },
   "outputs": [
    {
     "name": "stdout",
     "output_type": "stream",
     "text": [
      "(46606, 227)\n",
      "(46606, 10)\n",
      "(10, 227)\n"
     ]
    }
   ],
   "source": [
    "print(ta_tfidf.shape)\n",
    "print(ta_lda_dt.shape)\n",
    "print(ta_lda_tt.shape)"
   ]
  },
  {
   "cell_type": "code",
   "execution_count": 41,
   "metadata": {
    "collapsed": false
   },
   "outputs": [
    {
     "name": "stdout",
     "output_type": "stream",
     "text": [
      "(85000, 156)\n",
      "(85000, 10)\n",
      "(10, 156)\n"
     ]
    }
   ],
   "source": [
    "print(airbnb_tfidf.shape)\n",
    "print(airbnb_lda_dt.shape)\n",
    "print(airbnb_lda_tt.shape)"
   ]
  },
  {
   "cell_type": "code",
   "execution_count": 42,
   "metadata": {
    "collapsed": false
   },
   "outputs": [
    {
     "data": {
      "text/plain": [
       "<1x227 sparse matrix of type '<type 'numpy.float64'>'\n",
       "\twith 1 stored elements in Compressed Sparse Row format>"
      ]
     },
     "execution_count": 42,
     "metadata": {},
     "output_type": "execute_result"
    }
   ],
   "source": [
    "ta_vectorizer.transform(['test, bed'])"
   ]
  },
  {
   "cell_type": "code",
   "execution_count": 43,
   "metadata": {
    "collapsed": false
   },
   "outputs": [],
   "source": [
    "def search_lda(query, vectorizer, dt_mat, tt_mat, top_k = 10):\n",
    "    vec = vectorizer.transform([query]).todense().T\n",
    "    results = np.dot(dt_mat, np.dot(tt_mat, vec)).T\n",
    "    indices = np.squeeze(np.asarray(np.argsort(results)))[::-1].T[:top_k]\n",
    "    scores = np.squeeze(np.asarray(np.sort(results)))[::-1].T[:top_k]\n",
    "    listings = np.zeros(indices.shape)\n",
    "    for i in range(indices.shape[0]):\n",
    "        listings[i] = airbnb_index_to_listing[indices[i]]\n",
    "    return (listings.tolist(), indices.tolist(), scores.tolist())"
   ]
  },
  {
   "cell_type": "code",
   "execution_count": 45,
   "metadata": {
    "collapsed": false
   },
   "outputs": [],
   "source": [
    "listings, indices, scores = search_lda(\"clean bed\", airbnb_vectorizer, airbnb_lda_dt, airbnb_lda_tt)"
   ]
  },
  {
   "cell_type": "code",
   "execution_count": 46,
   "metadata": {
    "collapsed": true
   },
   "outputs": [],
   "source": [
    "airbnb_listings = pickle.load(open(\"data/airbnb_listings.pickle\", 'rb'))"
   ]
  },
  {
   "cell_type": "code",
   "execution_count": 47,
   "metadata": {
    "collapsed": false
   },
   "outputs": [
    {
     "name": "stdout",
     "output_type": "stream",
     "text": [
      "Listing ID: 26785\n",
      "Listing Name: Park Slope Green Guest House\n",
      "Review : \n",
      "We stayed at the Green Guest House for 5 nights in May 2011 and had a fantastic experience Below are my thoughts on some specific aspects of the apartment that I hope you find useful LOCATION After having lived in New York for 4 years previously my partner and I specifically searched for rental properties in Park Slope for our vacation back to NYC because it is a great walkable neighborhood with plenty of restaurants bars and entertainment options We also find that Park Slope has a small town feel despite being in the largest city in the U S The location of the Green Guest House is on a safe street where we felt very comfortable walking even late in the evening It is about 3 4 blocks a 5 minute walk from the nearest subway station at 4th and 9th where you can catch the F train or the R train to Manhattan 15 minute ride to Downtown Manhattan or the G train to other cool Brooklyn neighborhoods such as Carroll Gardens and Williamsburg Some of our favorite nearby attractions that you can walk to in 10 minutes or less from the Green Guest House include Prospect Park 12th Street Bar for drinks and darts Blue Ribbon Steak House the Park Slope Food Co Op largest food co op in the U S with 26 000 members Perch for an awesome breakfast and Union Hall for drinks and Bocce Ball APARTMENT The apartment is AMAZING by New York standards It is a second floor walk up on the back side of the building and overlooks the backyards of the houses on 12th and 11th streets as a result this is a very quiet unit with no street noise The apartment was very clean and the d cor furniture is pleasant and appropriate There is plenty of space for two people if staying with more than two people the alcove bedroom has nice heavy drapes that can be pulled across the walkway to the living room to allow for some privacy The kitchen is huge by New York standards It is nicely re done and is fully stocked with dishes plates glasses etc and other utensils needed for cooking in the apartment In addition a number of condiments and coffees are available for guests perusal The bathroom is small only comfortable for one person at a time but clean and has a full bathtub and shower with good water pressure There is TV with cable and an a computer with an internet connection in the unit for guests to use Dani has also put together a binder full of take out menus for nearby restaurants HOSTS Dani and her family were great hosts When we made our reservation a couple of months before our trip Dani contacted me within 24 hours to make arrangements for our arrival She also contacted me again a couple of days before our arrival to confirm our plans and was available and responsive when we notified her of our travel delays When we arrived Dani met us at the front door and took us up to the apartment to show us around She made sure we had everything we needed and told us to be sure to let her know if we needed anything else or if we d like any suggestions of things to do in the neighborhood She checked in with us again after we d been in the apartment for a few days to see if we needed fresh towels or anything else She and her family live on the first floor of the building and when we would run into them on our way in or out of the building they were kind and friendly Once when we were walking down the street in the neighborhood we saw Dani driving by and she smiled and waved at us from her car it was nice to see a familiar face of someone who seemed genuinely happy to see us each day that we were there OVERALL VALUE I sincerely believe that the Green Guest House is the best value you will find for accommodations in New York City I ve paid 200 night to stay in a miserable hotel motel near La Guardia airport that had plane noise street noise and gap between the bottom of the room door and the floor that was large enough to roll a golf ball through I ve paid 400 night to stay in a fancy schmancy hotel near Rockefeller Center which was nice but gave me a severe case of buyer s remorse when I got my credit card bill after that trip By choosing to stay at the Green Guest House we got a great apartment that was clean and safe for a very reasonable price We will definitely try to reserve the Green Guest House for our future trips\n",
      "Listing URL: https://www.airbnb.com/rooms/26785\n",
      "Image URL: https://a0.muscache.com/im/pictures/513490/ccd04024_original.jpg?aki_policy=large\n",
      "Score (Similarity): 1079.91938871\n",
      "**************\n",
      "Listing ID: 2119216\n",
      "Listing Name: Private, Simple & Clean NYC Flat!\n",
      "Review : \n",
      "I cannot begin to express how much I enjoyed my stay at Christina s place It being my first time staying in Harlem I wasn t sure what to expect but was thoroughly impressed and pleased with the entire experience For starters Christina was able to meet me for a late night and last minute check in She was very nice and pleasant and informed me of anything that I might need to know about the space and the area I found the apartment extremely clean and well kept There were plenty of extra blankets sheets and towels for me to use There was even an extra space heater in case I needed additional heat however I didn t need it The kitchen had basic essentials not too much but plenty of coffee and a small pot for me to boil water for tea The bed was super comfortable and gave me a perfect nights sleep after my long trip I think it was nice that the sofa shifts into another bed to accommodate additional guests In terms of size I would say the space isn t too big but it isn t too small and can certainly accommodate about 4 people The wifi was really fast and I was able to get some work done I was even able to catch up on some new movies on the large flat screen TV with her included Netflix account on Apple TV which was a really nice touch When thinking of value this is one of the best options available so I understand why Christina s place has so many glowing reviews The building was no frills but it was very clean and welcoming and they were repainting the hallway during my stay The neighborhood was alive but not bustling with activity I felt very safe at all times of the day and it was about 1am when I arrived from the A train to walk over from 145th Street It was awesome to have so many different subway options from Midtown The A D 2 and 3 trains are all express and get downtown super fast I even took advantage of Christina s promo codes and was able to get a free taxi ride from Uber and even saved some money on food delivery There were so many different types of food and supermarkets in the immediate area I really cant think of what more one could possibly need I visited 125th Street and did some light shopping while absorbing some of the historic culture There were so many beautiful churches and renowned restaurants at this point Harlem had truly won me over Overall this was an excellent and very satisfying trip I hope to revisit Christina s apartment again when I have some business in NYC In terms of cleanliness value and neighborhood Christina s place is an excellent choice I have upcoming trips to other cities planned and I can only hope that the other hosts and places will be as pleasurable as Christina and her lovely Harlem home\n",
      "Listing URL: https://www.airbnb.com/rooms/2119216\n",
      "Image URL: https://a0.muscache.com/im/pictures/28973162/07a94475_original.jpg?aki_policy=large\n",
      "Score (Similarity): 1078.77797442\n",
      "**************\n",
      "Listing ID: 15230\n",
      "Listing Name: Charming 2 Bedroom Yard Access\n",
      "Review : \n",
      "We family of 4 adults and 1 teenager had the 3 bedroom and 2 bathrooms apartment for our 5 night stay whilst touring New York All rooms were comfortable and we got a really good nights sleep after spending all day sightseeing in the City For the bedrooms my only suggestion would be a small bedside table To Note the duvets shown in the pics are NOT included but lots of blankets are the duvet sets are available for an extra charge The living room sofa was comfortable whilst watching cable TV and we made use of the foldaway dining table with 4 foldaway chairs too The TV was very dusty but we cleaned it before we left The kitchen was suitable for our stay all equiptment in good working order My only suggestion would be a small microwave The 2 bathrooms were clean and one of them even had a hair dryer which I had forgotten to pack so that was handy for me The showers were great hot water with no problems The internet connection is great in all rooms you will be given the password upon arrival TIPS The nearest metro station is a 10 15 minute walk depending on how slow you walk The metro takes 40 minutes to get to Upper West Manhattan and 20 minutes to get to Lower East Manhattan Make sure you bring USA adapter plugs if coming from abroad Try not to stay out too late as we found the area to be a little odd we were the only indian people around There are a number of shops on Malcom X Boulevard where you can purchase food snacks drinks homeware from the 99c plus store There is a very large fan available in the apartment if you need it but we were fine If you feel you need something best to ask straight away as the hosts are very lovely friendly and helpful We received our 400 deposit back apart from the 10pp cleaning charge as stated in the rules which is used to contribute to the high cost of dry cleaning of the bed linen that the host has to pay Overall this really is a cozy place with a home like comfort Thank you Thais and Greg\n",
      "Listing URL: https://www.airbnb.com/rooms/15230\n",
      "Image URL: https://a0.muscache.com/im/pictures/2273854/4dba29a5_original.jpg?aki_policy=large\n",
      "Score (Similarity): 1077.98631338\n",
      "**************\n",
      "Listing ID: 2320028\n",
      "Listing Name: SPACIOUS BEDROOM WITH PRIVATE BATH!\n",
      "Review : \n",
      "Our stay with Steven and Jimmy was absolutely fantastic If you choose to stay with Steven and Jimmy s AirBnB you will stay in the Manhattan Upper East Area right around the corner from Central Park The apartment itself is located on the 5th floor in a safe modern apartment right in front of the entry exit to the subway next to a supermarket and a few restaurants where you can have breakfast and or dinner drinks We found that it really is the perfect location for a New York visit From there it takes about 15 min to Soho Little Italy China Town etc by subway The room you will be staying is spacious enough for 2 people to put away your clothing and you will sleep in a very comfortable bed Its furnished with lots of love and small personal touches which make it so wonderful to stay there You will also have your separate bathroom all necessities covered incl hair dryer and towels In the morning my friend and I used to sit on the balcony to have our coffee in the sun and besides that kitchen and living room are free for usage The fridge is available to store some groceries if needed so you can also supply yourself with a few things from the supermarket next door Steve and Jimmy are simply the best hosts The both of them are super friendly and sweet and will always help out with tips and hints around subway lines where to go and what to do They adjust to the needs of the people staying so if you prefer to keep your distance or you want to have a nice chat either way they leave this up to your preference It s been simply AMAZING to stay with them and we can def recommend them to anyone The warmth with which they welcomed us was so special and great we just felt sooo good being there\n",
      "Listing URL: https://www.airbnb.com/rooms/2320028\n",
      "Image URL: https://a0.muscache.com/im/pictures/33612092/7e155f2a_original.jpg?aki_policy=large\n",
      "Score (Similarity): 1077.35635062\n",
      "**************\n",
      "Listing ID: 504938\n",
      "Listing Name: Stylish West Village 1 BR Apartment\n",
      "Review : \n",
      "Christopher was an excellent host his apartment was phenomenal and those two things resulted in the perfect NYC stay for us Christopher was very quick to respond he was extremely understanding of our situation we had come from a terrible Airbnb experience and were looking to switch apartments he answered all of our questions and was polite and kind We never met in person but he made check out and check in very convenient Christopher s apartment is the best thing you can find in the best part of New York It s walking distance to must see places for an authentic New York experience Whitney gallery Chelsea Market the High Line Washington Square Park Soho and Noho and it s also near very easy transportation lines which can get you anywhere you need to go Though very central the West Village is quiet and has a neighborhood feel and the house is in the middle of the block so it gets minimal traffic and noise It s on a street with a lot of great food and cafes which have outdoor seating the most beautiful architecture lots of trees A supermarket is right around the corner and even Trader Joe s is walkable You can even go running along the Hudson in a great riverside park just a block away The apartment itself surpasses the photos presented here by far The flights of stairs are very easy to climb The space is stylish and elegant the bedroom gets great light the kitchen is small but we managed to cook great meals in it the bathroom is flawless and also incredibly light The place was spotless clearly cleaned professionally this is a big problem for other NYC Airbnb s Beautiful floors and furniture very functional a very comfortable bed This apartment is a steal I would recommend it for anyone And I would definitely stay there again\n",
      "Listing URL: https://www.airbnb.com/rooms/504938\n",
      "Image URL: https://a0.muscache.com/im/pictures/6039891/dd9b7c19_original.jpg?aki_policy=large\n",
      "Score (Similarity): 1077.26321364\n",
      "**************\n",
      "Listing ID: 4701749\n",
      "Listing Name: Beautiful spacious apartment in Brooklyn\n",
      "Review : \n",
      "Just checked out of Heather Cassy s flat this morning It s been a fantastic base for my stay in NY and a beautiful apartment Really easy to find and the area felt safe It s not an area to really hang out in if you re looking for nice trendy cafe s bars restaurants etc from what I could see but generally a friendly neighborhood I came home late a couple of nights and felt fine I live in Manchester UK Prospect park is lovely to walk through Didn t meet Heather but she was brilliant with communication prior to my stay I met Cassy her flat mate who was lovely checked up on me to make sure I got in okay on the first day There were lovely personal touches and I felt very welcome Cassy was working a lot and I was out all day usually so our paths didn t cross at all This flat is a great quiet place to retreat to I didn t cook at the flat but everything is there if you do want to Heather s bedroom is really big and light The bed is comfy I wasn t sure how big it was from the photo but it s plenty big enough I m 5 10 and it was spacious The apartment was warm all the time And hot water is always available too Shower is great easy to use good pressure The bathroom is small but so well arranged you don t feel cramped It generally took 30 40 minutes to get to Midtown Manhattan or Williamsburg Brooklyn that includes to walk to the metro I would definitely stay again if I m coming back to NYC\n",
      "Listing URL: https://www.airbnb.com/rooms/4701749\n",
      "Image URL: https://a0.muscache.com/im/pictures/59038869/69bc5e3c_original.jpg?aki_policy=large\n",
      "Score (Similarity): 1075.96207774\n",
      "**************\n",
      "Listing ID: 408133\n",
      "Listing Name: Uniquely Styled Bright Boho Zen: Central & Quiet\n",
      "Review : \n",
      "Kira was a great host We would recommend this apartment wholeheartedly Before our stay she was flexible and helpful and answered our requests and questions quickly and sensitively We flew in late on a wet wet NY evening our plane was 1hour late and the car got stuck in traffic both into and out of JFK so it was almost midnight when we arrived Kira warmly welcomed our bedraggled family 2 adults and 2 kids aged 1 and 2 It was such a relief to have a shower great pressure and collapse into bed Kira s tips and neighbourhood advice meant we had an awesome stay our first air bnb experience The apartment looks feels exactly like the pictures and the neighbours are all lovely people A friend who has lived in NYC his whole life visited us at the apartment and was really impressed by its location and size You guys lucked out were his exact words The kitchen is well decked out and useful The bathroom is large and contains a tub useful for the kids The living area is spacious well for NY anyway and has a relaxed homely vibe The apartment also has a great location on the LES We were close to subway stations and the M15 express bus that scoots uptown Many things East Village Chinatown Little Italy Ground zero and more were within walking distance But this is a lived in eclectic neighbourhood and not some tourist area There are little cafes galleries and boutiques alongside Chinese grocers fruit shops laundromats schools etc There are many parks for kids are close by and our boys loved them The elevator was a Godsend after long days exploring Manhattan Whilst we weren t concerned about anything at all it s still worth mentioning a couple of points so that prospective airbnb ers can make sure they get the place that is right for them As others have noted there are shops across the street that make noise from 6 7am some mornings But hey this is NY right Get up and get out there carpe diem etc etc Also the laundry requires a smartcard that needs a credit card with a US zipcode to recharge well we couldn t get it to recharge with our Aussie cards and had to use a US friend s credit card The television is a screen with a HDMI cable no stations or cable so come prepared with your iPad laptop and hulu netflix account Finally we put our kids in the bedroom and slept ourselves on the living room sofa bed every night This springy sofa bed experience was fine for us but if you have a sensitive back you might want to stick to the main bedroom All that being said this is a cool place with a host who is a beautiful and helpful person We absolutely loved our time here Oh yeah Planet Donuts is closeby watch your waistlines people\n",
      "Listing URL: https://www.airbnb.com/rooms/408133\n",
      "Image URL: https://a0.muscache.com/im/pictures/acf3a870-3962-4be2-b22c-85750fe7853e.jpg?aki_policy=large\n",
      "Score (Similarity): 1075.42315476\n",
      "**************\n",
      "Listing ID: 2085632\n",
      "Listing Name: East Village 2 Bedroom+2 Bath w/private deck\n",
      "Review : \n",
      "Let s just start with how incredibly EASY Jen has made our FIRST Airbnb experience It was our first time to New York Finding a place for 7 people 6 guys 1 girl was extremely stressing We started off searching for a place and got scammed We were skeptical about spending 4000 on a place after that asked us to wire them money We also were had no back up plan if things were to go wrong with no family or friends in NYC and our home being in Hawaii Going back and forth with Airbnb customer service they reassured me to continue all contact through the Airbnb site When we inquired on Jen s listing she gave us no intention on scamming us Once our booking was complete no one knew how relieved and excited we were for this trip Jen answered all my questions concerning key exchanges address and best possible tips for around the city Now for the place we were very satisfied with the 2 bedroom 2 bath Everything was as pictures in the listing 5 guys easily fit in one bedroom and the living room which had 2 pull out couches 2 bathrooms made it convenient for our large group Washer and dryer was also a plus We would have enjoyed the deck if the weather was a little warmer but that s what we get for going to nyc in November The apartment was also located on the first floor which was great as we had a lot of luggage As far as location it was about a 15 20 min walk to multiple lines keep in mind we were not used to walking NYC speed and still figuring out this subway thing It felt like a safe neighborhood Also transportation between JFK we got an airport shuttle which came out to about 25 per person Exploring the city in 9 days we completed most of all the touristy attractions One exciting activity thing we did was rent a citi bike a block away from the place and road the FDR to the Brooklyn bridge before we knew it we were done The proximity of this apartment to all attractions was convenient Lyft or Uber rides were about 7 15 to get as far as the Times Square or Central Park Around the block the closest convenient store was the cheapest There were a few good bars near Tompskins Square All walking distance and not to sketchy at 2am I can t think of anything negative about this place It was incredibly awesome We didn t personally get to meet Jen but through email she was a very good host Thank you\n",
      "Listing URL: https://www.airbnb.com/rooms/2085632\n",
      "Image URL: https://a0.muscache.com/im/pictures/96715764/98843b45_original.jpg?aki_policy=large\n",
      "Score (Similarity): 1075.20620291\n",
      "**************\n",
      "Listing ID: 2524034\n",
      "Listing Name: Nice room Convenient to Manhattan A\n",
      "Review : \n",
      "This is one of the cleanest places I have stayed including the more expensive hotels and my own home Cleanliness is almost always a sacrifice I have to make when I travel but I was immediately struck by how clean and neat this place was My sheets and towels two large and two small were clean and smelled washed The bedroom bed furniture closet and floor was clean Even the bathroom which is normally the grimiest place in a hotel or home was very clean and lacked the usual restroom smell that shared bathrooms have The apartment looked well maintained and had that new house smell which may or may not be a positive for you Now that I am done raving about the cleanliness I can talk about other aspects of this listing P The photos and description are accurate I was not surprised by anything when I arrived What you see read is what you get The bed is comfortable The closet is spacious and has hangers There are several shelves in the cabinet There is a power strip so I had plenty of electrical outlets The wireless internet connection was easy to set up and reasonably quick Everything I used was in good working order The only things I did not use were the heater and the oven stove so I cannot speak to those There is no elevator in the building The building is about half an hour to Manhattan by subway You get keys to the building apartment and room The neighborhood seemed safe at night I felt safe enough to walk back alone from the subway station relatively late at night sometime after 22 00 It was very quiet at night There was no noise from the street the neighbors or the other guests I am not sure if it was due to good sound proofing or if everyone is just that quiet The nearby laundromat has a drop off service if you have dirty clothes but little time I did not meet the host in person but he was quick to respond to me by Airbnb and phone whenever I had questions He was always helpful and respectful and was very flexible with me when I asked him if I could check out later than planned Stay here if you want somewhere comfortable quiet organized very clean and close to a subway station Do not stay here if you want to take less than half an hour to get to Manhattan by subway Overall this was a fantastic stay I had to think hard for a do not stay here if characteristic for this listing Actually I personally did not mind the subway ride time since it takes that long to get to all the touristy spots around town anyway but figured that some people might I highly recommend this listing and will try to go back again the next time I am in town\n",
      "Listing URL: https://www.airbnb.com/rooms/2524034\n",
      "Image URL: https://a0.muscache.com/im/pictures/34868553/b4cd51d5_original.jpg?aki_policy=large\n",
      "Score (Similarity): 1075.20265358\n",
      "**************\n",
      "Listing ID: 6093352\n",
      "Listing Name: Sunny Room 15min from Manhattan\n",
      "Review : \n",
      "This was my first time using Air BnB and Elena gave us a great experience Prior to arriving in NY she responded to every single one of my questions Due to work schedules my friend and I had an arrival time that was later than preferred but Elena was gracious to allow us to check in at the later time We arrived late night and at first glance the area seemed to be questionable The building was easy to find as it is on a one way street Elena met us promptly and greeted us warmly The elevator was a godsend for our luggage When we got to her loft she immediately offered a spare air mattress in case we wanted our own sleeping areas The room was cute and small but exactly as pictured We only needed a place to rest our heads shower and leave our luggage this was perfect We fit the full size air mattress 2 large suitcases 2 small suitcases and 2 large totebags in the room Slightly cramped but we came prepared for fashion week She provided towels sheets pillows toiletries and use of the kitchen Also small breakfast around the corner that unfortunately we did not get to take advantage of since we were meeting friends for breakfast every morning There IS another room she rents out so be aware that you may see different faces The loft itself is a small space but the high ceilings and windows from wall to wall make it feel spacious The bathroom is tiny but it has everything you need As far as security there is a key to get in the building a key to get in each floor and of course the key to her loft It is easier to take the stairs than find the elevator The area itself is a street art lovers dream Graffiti everywhere I wish I had more time to see everything but what we did get to see was AMAZING There are several grocery stores and little restaurants within very short walking distance and you have access to the L Train within minutes We uber ed home at night which at most was 38 coming from East Village We felt absolutely safe It s like you re in your own bubble At night on the weekend the area comes to life There are people and music and laughter from this building and across the street Not good if you re a light sleeper but I just took an advil pm and was knocked out Elena pretty much left us to our own devices but chatted with us in passing She was available to answer questions at all times and is just so accommodating there was a hanging plant in the room that I kept walking in to on the first night and when we came back from our first day of exploring the plant was gone I didn t even have to ask Overall our experience was great and I definitely recommend her\n",
      "Listing URL: https://www.airbnb.com/rooms/6093352\n",
      "Image URL: https://a0.muscache.com/im/pictures/3afa1bc1-a057-48dd-ae74-318d812abd88.jpg?aki_policy=large\n",
      "Score (Similarity): 1074.91443714\n",
      "**************\n"
     ]
    }
   ],
   "source": [
    "for (l, ind, score) in zip(listings, indices, scores):\n",
    "    listing_id = str(int(l))\n",
    "    airbnb_listing_info = airbnb_listings[listing_id]\n",
    "    print(\"Listing ID: \" + listing_id)\n",
    "    print(\"Listing Name: \" + airbnb_listing_info['name'])\n",
    "    print(\"Review : \\n\" + airbnb_reviews[ind])\n",
    "    print(\"Listing URL: \" + airbnb_listing_info['listing_url'])\n",
    "    print(\"Image URL: \" + airbnb_listing_info['picture_url'])\n",
    "    print(\"Score (Similarity): \" + str(score))\n",
    "    print(\"**************\")"
   ]
  },
  {
   "cell_type": "code",
   "execution_count": null,
   "metadata": {
    "collapsed": true
   },
   "outputs": [],
   "source": []
  }
 ],
 "metadata": {
  "kernelspec": {
   "display_name": "Python 2",
   "language": "python",
   "name": "python2"
  },
  "language_info": {
   "codemirror_mode": {
    "name": "ipython",
    "version": 2
   },
   "file_extension": ".py",
   "mimetype": "text/x-python",
   "name": "python",
   "nbconvert_exporter": "python",
   "pygments_lexer": "ipython2",
   "version": "2.7.13"
  }
 },
 "nbformat": 4,
 "nbformat_minor": 2
}
