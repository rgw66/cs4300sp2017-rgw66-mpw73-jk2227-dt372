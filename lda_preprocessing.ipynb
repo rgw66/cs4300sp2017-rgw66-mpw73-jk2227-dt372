{
 "cells": [
  {
   "cell_type": "code",
   "execution_count": 1,
   "metadata": {
    "collapsed": true
   },
   "outputs": [],
   "source": [
    "from __future__ import print_function\n",
    "from scipy.sparse.linalg import svds\n",
    "from sklearn.decomposition import NMF, LatentDirichletAllocation\n",
    "from sklearn.feature_extraction.text import TfidfVectorizer, CountVectorizer\n",
    "from sklearn.manifold import TSNE\n",
    "from sklearn.preprocessing import normalize\n",
    "import numpy as np\n",
    "import pickle\n",
    "import matplotlib.pyplot as plt"
   ]
  },
  {
   "cell_type": "code",
   "execution_count": 2,
   "metadata": {
    "collapsed": false
   },
   "outputs": [],
   "source": [
    "ta_data = pickle.load(open(\"data/tripadvisor_reviews.pickle\", 'rb'))\n",
    "airbnb_data = pickle.load(open(\"data/airbnb_reviews.pickle\", 'rb'))"
   ]
  },
  {
   "cell_type": "code",
   "execution_count": 3,
   "metadata": {
    "collapsed": true
   },
   "outputs": [],
   "source": [
    "ta_listings = pickle.load(open(\"data/tripadvisor_hotel_info.pickle\", 'rb'))\n",
    "airbnb_listings = pickle.load(open(\"data/airbnb_listings.pickle\", 'rb'))"
   ]
  },
  {
   "cell_type": "code",
   "execution_count": 4,
   "metadata": {
    "collapsed": false
   },
   "outputs": [
    {
     "name": "stdout",
     "output_type": "stream",
     "text": [
      "(u'La Semana Hotel ', ('https://www.tripadvisor.com/Hotel_Review-g60763-d290982-Reviews-La_Semana_Hotel-New_York_City_New_York.html', '1.5 of 5 bubbles'))\n",
      "0\n",
      "78\n"
     ]
    }
   ],
   "source": [
    "print(ta_listings.items()[0])\n",
    "ta_listing_to_index = {}\n",
    "for i,d in enumerate(ta_listings.items()):\n",
    "    ta_listing_to_index[d[0].strip()] = i\n",
    "print(ta_listing_to_index['La Semana Hotel'])\n",
    "print(len(ta_listing_to_index))"
   ]
  },
  {
   "cell_type": "code",
   "execution_count": 5,
   "metadata": {
    "collapsed": false
   },
   "outputs": [
    {
     "name": "stdout",
     "output_type": "stream",
     "text": [
      "{'review': u\"This is place is great. Service is excellent, location is ideal, beds are comfy. Not much I would really say I didn't like. There was a woman, Gabriele I believe? who was one of the nicest hotel workers I have ever encountered. Consistently friendly and helpful. I would highly recommend this hotel.\", 'review_stars': '5 of 5 bubbles', 'hotel_name': u'Hotel Giraffe by Library Hotel Collection ', 'title': u'Awesome stay'}\n"
     ]
    }
   ],
   "source": [
    "print(ta_data[0])\n",
    "ta_reviews = []\n",
    "ta_adj_mat = np.zeros((len(ta_listing_to_index), len(ta_data)))\n",
    "for j,d in enumerate(ta_data):\n",
    "    i = ta_listing_to_index[d['hotel_name'].strip()]\n",
    "    ta_reviews.append(d['review'])\n",
    "    ta_adj_mat[i,j] += 1"
   ]
  },
  {
   "cell_type": "code",
   "execution_count": 6,
   "metadata": {
    "collapsed": false
   },
   "outputs": [
    {
     "name": "stdout",
     "output_type": "stream",
     "text": [
      "('7148791', ['Room was clean and the air conditioner worked great Keyless entry was super convenient I met everyone else in the apartment briefly and they were all very charming and welcoming You re right next to a bus stop which will take you straight into Downtown Brooklyn and there s a Q stop within a couple minutes walking distance Great spot if you just need a crash pad and are spending most of the day and evening out and about in the city', 'It was a pleasure to stay in Aarons flat It s clean and very silent and important because of the summerheat it s air conditioned So we felt very comfortable This central placed Areal offers a very good choice between high life in Manhattan a walk through the friendly neighbourhood and for sporty guys a run around the prospectpark It just takes annother 25 Minuten to go to the Brighton Beach Great If we come back this is the place to stay Thanks for hosting us', 'Aaron s flat is a good place to stay for vacation in New York It s located in the south of Brooklyn 20 30 minutes from Manhattan using the subway Q B The neighborhood is popular but the apartment is simple clean and quiet It s a good surprise when you come in There is air conditioning in the bedrooms but the other rooms are quite hot in summer However we enjoyed our stay there', 'We booked last minute a night before and Aaron was very helpful in that he allowed us to drop our things of early the next day so we could seize the day without luggage A nice gesture that he didn t have to make but one we so appreciated I never actually met him but his communication was stellar and the place itself reasonably cozy for what we paid', 'We had a great stay at Aaron s apartment The room was very clean and neat and the bed was comfortable Aaron was very nice and considerable as he made sure to warn us about the neighborhood before accepting our request He also sent us a message during our stay to let us know that the neighborhood would get wild because it was West Indian carnival The apartment is close to the subway station and only one train away from Manhattan We didn t have any problems during our stay We followed Aaron s suggestion and tried one of the cafes nearby and it was such a pleasant surprise Aaron was a very good host and we recommend his place to anyone who doesn t mind walking around the real Brooklyn', 'Aaron was an excellent host Communication began instantly when I booked was thorough and helped us prepare for our trip His place was less than 10 min from the subway even less to a bus and was in historic and eclectic Flatbush Brooklyn Getting around was easy and Manhattan was about 40 min from the doorstep and everywhere else the same All types of cultures are represented in the neighborhood with a strong Caribbean influence There were many great family owned restaurants and bakeries nearby as well as any shopping you may need The room was spacious clean and comfortable The bathroom was very clean and we also had access to a kitchen It was exactly what we were looking for Aaron was very attentive made sure we settled in gave us some great recommendations for the area and always quick to communicate or reapond If you are looking for a great combination of location value culture and a great host this is it', 'Aaron is a super friendly guy very courteous and he always payed attention to my needs The room kitchen bathroom is clean and new The neighborhood is not cozy but a cheap headquarter if you want to spend your days visiting NYC as it has a direct train to Manhattan Q line 3 minutes walking from the apartment', 'I highly enjoyed my EMAIL HIDDEN muncation was good and he answered all question quickly and efficently before I arrived which caused and easy check in I loved the area Flatbush is full of so much culture and just reminded me of where I am from in London There are food shops everywhere and you really get to see how real Brooklyn people live The room was extremely clean and well ventilated on my arrival with a variety of storage options for my clothes The room did get a little chilly at night as the windows are single glazed but nothing a duvet or hoodie couldnt solve I would tell anyone to book here if you want a smooth process and wish to experience the real brooklyn experience', 'Needed last minute accommodation and Aaron came through like superman saving my night Good space in a good neighbourhood If it was good for Biggie it is good enough for me in Flatbush of Brooklyn Amazing bed to sleep on and great communications from the host makes this space a gem for me Aaron is pure aces', 'This was my first experience with Airbnb and it was a very pleasant one I was out and about most of the time but the room was very spacious and the code locked doors felt really safe The location is a quick walk to the Q train and a 30 minute commute to Times Square if that s your thing It s a quick walk to a park near by for some down time and right in the heart of a mix of the regular fast food as well as soul food places I would recommend this room to anyone looking for a place to stay in NYC', 'This was a perfect trip Aaron s house was clean and Aaron gave us very detailed address and how to got there it was easy to found This place close to the subway so it was convenience to anywhere We did not meet with Aaron but we met with another host and he was enthusiastic Walking in the street at night would feel a little bit fear cause it is a old street but in the day is good There were many restaurant and shop around the house very convenient to get foods', 'Aaron s place was as described I was looking for an expensive private room while training for a new job in Brooklyn and that s exactly what it was Although there s multiple rooms guests each room had its own separate padlock so you feel like you have your own private space and can rest assured your belongings are locked up and safe The check in out process was seamless with a unique punch code to enter so you can come and go at any time you need The negative with the multiple guests is the 1 bathroom for everyone so if your on a schedule you may need to coordinate shower time There was a hanging rack to hang cloning cubbies to organize my essentials and a luggage stand which was super convenient The bed was comfortable and the room looked like the photos', 'Overall the experience was OK Aaron s instruction was very helpful the location is very convenient and you can access four different trains in less than 15 minutes walking the room is very spacious However the neighborhood is a little rougher just like what Aaron described And it s too hot in the room you would sweat even if you only wear underwear', 'The room and bathroom were clean and easily accessible at all hours The apartment is located in a rougher neighborhood as Aaron said but I never felt unsafe All the encounters and interactions I had w ppl in the neighborhood were pleasant The apartment is close to the subway which is only about 10 min from DUMBO and about 15 min to Manhattan You can t beat the price I would definitely recommend Aaron s place for anyone traveling to nyc', 'We did not see Aaron for the entirety of our trip which I thought was funny because he says in his profile that he likes meeting new people The room was very clean the bed had a crisp blanket no top sheet and it was VERY quiet in the room while Brooklyn was very loud outside The door to the room has 2 3 inches of space open on the bottom which we covered with a towel and books You also really get the Brooklyn experience while staying in this room Public transit is really close and we didn t have a problem sharing the bathroom with other residents There is an electronic keypad lock on both the outside door and the door to the room which made us feel safer', 'A great value for the price Everything as described Aaron was super fast to respond to all my questions and requests I had totally great time in his apartment It was spacious and quiet something you wouldn t expect from NYC Neighbourhood might be something not everyone likes but for me it was a superb place to stay at Very cultural lively with possibility do buy something to eat or drink any time during the day and night The real Brooklyn And of course the location is perfect Manhattan being easy to reach within half an hour as subway is just 5 minutes walk away I definitely recommend Aaron s apartment to everyone', 'The room was better than I expected from the photo Lots of natural light during the day rather spacious Soundproofing however is non existant you ll hear every word said in the kitchen or next room so bring earplugs I had some and slept great The mattress being super comfy helped too The location is nice with four trains within 10 minutes walk and some more within 20 or 10 min bus and I didn t find it s Carribean vibe rough but you can get sweet sweet Haitian mango at any corner a feat not every nyc hood can boast The only drawback for me was that all the decent coffee shops are on the other side of the park 30 min walk and if you brew yourself the stove takes ages to bring the kettle to boil even at max setting', 'Everything was as described when I had an issue Aaron promptly addressed it once I let him know Neighborhood is a bit rough but I didn t have any issues It s a great place and value if you just need a place to sleep while visiting the city I happened to be visiting a weekend that the Q was not running The B41 bus actually got me to all the places I needed and was closer than the subway station', 'Aaron was an amazing host who kept great communication with me and definitely accomodated me in everyway that I wanted Although I did not get to meet him during my stay he kept the room well air conditioned during the hot days and even left out fresh towels for me to use I would love to stay in this room again for future stays I highly recommend this room', 'We didn t actually met Aaron due to our very brief visit and busy schedule but his place is nice and price is fair There is AC in the room plenty of space and clean bedding and towels Kitchen and bathroom are right behind the door So you can smell the food if someone is cooking which is one of minuses For short stay the conditions are totally fine but there s only one bathroom per 4 rooms so don t expect it to be super clean The train is close and the neighborhood is the real Brooklyn so come check it out while it lasts', 'Aaron is a busy dude I went to the city for a workshop and only saw him in person once the entire stay While I would ve loved to spent sometime getting to know him wasn t the point of my trip It was an excellent room my only problem was leaving a tuna melt in his fridge', 'Aaron is an awesome host Long time before I arrived he gave me all the instructions I needed to find my room Once I arrived there everything was prepared for my stay two big clean towels and a nice big bed The room had ventilation so it was not hot at night I visited this place in mid June Also this Airbnb is very well connected to the city center there is two metro lines B and Q one of them reaches Manhattan in about 25 minutes All in all I had a great experience in New York City and fully recommend Aaron because he is a great host Best regards Denis from Germany', 'My boyfriend and I had a fantastic time on our vacation thanks to Aaron It was really wonderful to have a quiet safe place to stay When we first arrived Aaron had turned on the AC in our room and put three clean towels on the dresser Though we never met him we really appreciated the hospitality The affordable price was also a major bonus because as most college students we were really worried about having the finances to actually enjoy our vacation Thanks to Aaron we were able to spend the money we saved on housing to enjoy our trip', 'The place was great is indeed a little bit rough neighborhood but once you get into the 2nd floor eveything is neat and clean for an awesome affordable price Aaron even stayed awake until we arrived almost at 2 30am to make sure we get there I will definitely recommend this place', 'Aaron s apartment was cozy and clean and to be honest very good value for money I felt the rooms and the shared space was very clean too the air conditioning kept the room cool throughout my stay The neighbourhood was quite vibrant and amenities like subway was very close Overall i will give the place 2 thumbs up', 'The room was fine and enough size for two people and kitchen and living room were also fine However a bathroom was not clean enough specifically a bathtub The location is not recommendable for travelers Neighborhood seemed bit unsafe and the distance from the center of Manhattan is bit longer than I expected roughly 40 minutes by Metro Actually I didn t meet Aaron during the staying but he properly responded my request online', 'The apartment was absolutely beautiful and the bed was one of the most comfortable I ve ever had the pleasure of sleeping in People reviewing the neighborhood as being rough or sketchy are mistaken I lived here for four years and come back to visit frequently and it s a neighborhood full of working people and diverse communities but it is not especially dangerous The apartment is located very near the subway and the inside for the price is functional beautiful and spacious I look forward to hopefully staying there again when I next visit', 'Aaron made this a really easy and comfortable experience for me As a first time Airbnb user I was feeling a little timid but he left easy to follow instructions and was very kind The location is easy to get to and you can find street parking in many places that really aren t too far'])\n",
      "90003\n"
     ]
    }
   ],
   "source": [
    "print(airbnb_data.items()[0])\n",
    "airbnb_index_to_listing = {}\n",
    "airbnb_listing_to_mat_index = {}\n",
    "airbnb_reviews = []\n",
    "i = 0\n",
    "for (ind, (listing_id, reviews)) in enumerate(airbnb_data.items()):\n",
    "    for review in reviews:\n",
    "        airbnb_reviews.append(review)\n",
    "        airbnb_listing_to_mat_index[listing_id] = ind\n",
    "        airbnb_index_to_listing[i] = listing_id\n",
    "        i += 1\n",
    "print(i)\n",
    "count = i"
   ]
  },
  {
   "cell_type": "code",
   "execution_count": 7,
   "metadata": {
    "collapsed": false
   },
   "outputs": [
    {
     "name": "stdout",
     "output_type": "stream",
     "text": [
      "[[ 1.  1.  1. ...,  0.  0.  0.]\n",
      " [ 0.  0.  0. ...,  0.  0.  0.]\n",
      " [ 0.  0.  0. ...,  0.  0.  0.]\n",
      " ..., \n",
      " [ 0.  0.  0. ...,  0.  0.  0.]\n",
      " [ 0.  0.  0. ...,  0.  0.  0.]\n",
      " [ 0.  0.  0. ...,  1.  1.  1.]]\n"
     ]
    }
   ],
   "source": [
    "airbnb_adj_mat = np.zeros((len(airbnb_data),i))\n",
    "for (j, l) in airbnb_index_to_listing.items():\n",
    "    airbnb_adj_mat[airbnb_listing_to_mat_index[l],j] += 1 \n",
    "print(airbnb_adj_mat)"
   ]
  },
  {
   "cell_type": "code",
   "execution_count": 8,
   "metadata": {
    "collapsed": false
   },
   "outputs": [],
   "source": [
    "total_adj_mat = np.zeros((len(ta_listing_to_index)+len(airbnb_data),len(ta_data)+count))\n",
    "total_mat_index_to_listing = {}\n",
    "for j,d in enumerate(ta_data):\n",
    "    i = ta_listing_to_index[d['hotel_name'].strip()]\n",
    "    total_adj_mat[i,j] += 1\n",
    "    total_mat_index_to_listing[i] = d['hotel_name'].strip()\n",
    "for (j, l) in airbnb_index_to_listing.items():\n",
    "    row = len(ta_listing_to_index)+airbnb_listing_to_mat_index[l]\n",
    "    col = len(ta_data)+j\n",
    "    total_adj_mat[row,col] += 1 \n",
    "    total_mat_index_to_listing[row] = l"
   ]
  },
  {
   "cell_type": "code",
   "execution_count": 14,
   "metadata": {
    "collapsed": true
   },
   "outputs": [],
   "source": [
    "ta_vectorizer = TfidfVectorizer(stop_words='english', min_df=0.05, max_df=0.9)\n",
    "airbnb_vectorizer = TfidfVectorizer(stop_words='english', min_df=0.05, max_df=0.9)"
   ]
  },
  {
   "cell_type": "code",
   "execution_count": 15,
   "metadata": {
    "collapsed": true
   },
   "outputs": [],
   "source": [
    "ta_tfidf = ta_vectorizer.fit_transform(ta_reviews)"
   ]
  },
  {
   "cell_type": "code",
   "execution_count": 16,
   "metadata": {
    "collapsed": true
   },
   "outputs": [],
   "source": [
    "airbnb_tfidf = airbnb_vectorizer.fit_transform(airbnb_reviews)"
   ]
  },
  {
   "cell_type": "code",
   "execution_count": 17,
   "metadata": {
    "collapsed": false
   },
   "outputs": [],
   "source": [
    "ta_tfidf_feature_names = ta_vectorizer.get_feature_names()"
   ]
  },
  {
   "cell_type": "code",
   "execution_count": 18,
   "metadata": {
    "collapsed": false
   },
   "outputs": [],
   "source": [
    "airbnb_tfidf_feature_names = airbnb_vectorizer.get_feature_names()"
   ]
  },
  {
   "cell_type": "code",
   "execution_count": 19,
   "metadata": {
    "collapsed": true
   },
   "outputs": [],
   "source": [
    "def print_top_words(model, feature_names, n_top_words):\n",
    "    for topic_idx, topic in enumerate(model.components_):\n",
    "        print(\"Topic #%d:\" % topic_idx)\n",
    "        print(\" \".join([feature_names[i]\n",
    "                        for i in topic.argsort()[:-n_top_words - 1:-1]]))\n",
    "    print()"
   ]
  },
  {
   "cell_type": "code",
   "execution_count": 20,
   "metadata": {
    "collapsed": true
   },
   "outputs": [],
   "source": [
    "# Don't need to run this every time, only run if absolutely necessary\n",
    "ta_lda = LatentDirichletAllocation(n_topics=10, max_iter=5,\n",
    "                                learning_method='online',\n",
    "                                learning_offset=10.,\n",
    "                                random_state=0).fit(ta_tfidf)"
   ]
  },
  {
   "cell_type": "code",
   "execution_count": 21,
   "metadata": {
    "collapsed": false
   },
   "outputs": [],
   "source": [
    "# Don't need to run this every time, only run if absolutely necessary\n",
    "airbnb_lda = LatentDirichletAllocation(n_topics=10, max_iter=5,\n",
    "                                learning_method='online',\n",
    "                                learning_offset=10.,\n",
    "                                random_state=0).fit(airbnb_tfidf)"
   ]
  },
  {
   "cell_type": "code",
   "execution_count": 9,
   "metadata": {
    "collapsed": true
   },
   "outputs": [],
   "source": [
    "total_vectorizer = TfidfVectorizer(stop_words='english', min_df=0.05, max_df=0.9)\n",
    "total_tfidf = total_vectorizer.fit_transform(ta_reviews + airbnb_reviews)"
   ]
  },
  {
   "cell_type": "code",
   "execution_count": 10,
   "metadata": {
    "collapsed": true
   },
   "outputs": [],
   "source": [
    "total_tfidf_feature_names = total_vectorizer.get_feature_names()"
   ]
  },
  {
   "cell_type": "code",
   "execution_count": 11,
   "metadata": {
    "collapsed": true
   },
   "outputs": [],
   "source": [
    "# Don't need to run this every time, only run if absolutely necessary\n",
    "total_lda = LatentDirichletAllocation(n_topics=10, max_iter=5,\n",
    "                                learning_method='online',\n",
    "                                learning_offset=10.,\n",
    "                                random_state=0).fit(total_tfidf)"
   ]
  },
  {
   "cell_type": "code",
   "execution_count": 37,
   "metadata": {
    "collapsed": false
   },
   "outputs": [],
   "source": [
    "ta_lda_topic_term_matrix = ta_lda.components_\n",
    "ta_lda_doc_topic_matrix = ta_lda.transform(ta_tfidf)"
   ]
  },
  {
   "cell_type": "code",
   "execution_count": 38,
   "metadata": {
    "collapsed": true
   },
   "outputs": [],
   "source": [
    "airbnb_lda_topic_term_matrix = airbnb_lda.components_\n",
    "airbnb_lda_doc_topic_matrix = airbnb_lda.transform(airbnb_tfidf)"
   ]
  },
  {
   "cell_type": "code",
   "execution_count": 39,
   "metadata": {
    "collapsed": true
   },
   "outputs": [],
   "source": [
    "total_lda_topic_term_matrix = total_lda.components_\n",
    "total_lda_doc_topic_matrix = total_lda.transform(total_tfidf)"
   ]
  },
  {
   "cell_type": "markdown",
   "metadata": {},
   "source": [
    "### Everything above is un-normalized, so if you run the above again, make sure to normalize again!"
   ]
  },
  {
   "cell_type": "code",
   "execution_count": 40,
   "metadata": {
    "collapsed": false
   },
   "outputs": [],
   "source": [
    "ta_lda_tt = normalize(ta_lda_topic_term_matrix, axis = 0)\n",
    "airbnb_lda_tt = normalize(airbnb_lda_topic_term_matrix, axis = 0)\n",
    "total_lda_tt = normalize(total_lda_topic_term_matrix, axis = 0)\n",
    "\n",
    "ta_lda_tt.dump(\"ta_lda_tt.mat\")\n",
    "airbnb_lda_tt.dump(\"airbnb_lda_tt.mat\")\n",
    "total_lda_tt.dump(\"total_lda_tt.mat\")"
   ]
  },
  {
   "cell_type": "code",
   "execution_count": 44,
   "metadata": {
    "collapsed": true
   },
   "outputs": [],
   "source": [
    "ta_lda_ht = normalize(np.matmul(ta_adj_mat, ta_lda_doc_topic_matrix), axis=1)\n",
    "airbnb_lda_ht = normalize(np.matmul(airbnb_adj_mat, airbnb_lda_doc_topic_matrix), axis=1)\n",
    "total_lda_ht = normalize(np.matmul(total_adj_mat, total_lda_doc_topic_matrix), axis=1)\n",
    "\n",
    "ta_lda_ht.dump(\"ta_lda_ht.mat\")\n",
    "airbnb_lda_ht.dump(\"airbnb_lda_ht.mat\")\n",
    "total_lda_ht.dump(\"total_lda_ht.mat\")"
   ]
  },
  {
   "cell_type": "code",
   "execution_count": 27,
   "metadata": {
    "collapsed": false
   },
   "outputs": [
    {
     "name": "stdout",
     "output_type": "stream",
     "text": [
      "7993\n"
     ]
    }
   ],
   "source": [
    "print(len(airbnb_data))"
   ]
  },
  {
   "cell_type": "code",
   "execution_count": 31,
   "metadata": {
    "collapsed": false
   },
   "outputs": [
    {
     "name": "stdout",
     "output_type": "stream",
     "text": [
      "(90003, 10)\n"
     ]
    }
   ],
   "source": [
    "print(airbnb_lda_doc_topic_matrix.shape)"
   ]
  },
  {
   "cell_type": "code",
   "execution_count": 32,
   "metadata": {
    "collapsed": false
   },
   "outputs": [
    {
     "name": "stdout",
     "output_type": "stream",
     "text": [
      "(7993, 90003)\n"
     ]
    }
   ],
   "source": [
    "print(airbnb_adj_mat.shape)"
   ]
  },
  {
   "cell_type": "code",
   "execution_count": 36,
   "metadata": {
    "collapsed": false
   },
   "outputs": [
    {
     "name": "stdout",
     "output_type": "stream",
     "text": [
      "(7993, 10)\n"
     ]
    }
   ],
   "source": [
    "print(airbnb_lda_ht.shape)"
   ]
  },
  {
   "cell_type": "code",
   "execution_count": null,
   "metadata": {
    "collapsed": true
   },
   "outputs": [],
   "source": []
  }
 ],
 "metadata": {
  "kernelspec": {
   "display_name": "Python 2",
   "language": "python",
   "name": "python2"
  },
  "language_info": {
   "codemirror_mode": {
    "name": "ipython",
    "version": 2
   },
   "file_extension": ".py",
   "mimetype": "text/x-python",
   "name": "python",
   "nbconvert_exporter": "python",
   "pygments_lexer": "ipython2",
   "version": "2.7.13"
  }
 },
 "nbformat": 4,
 "nbformat_minor": 2
}
