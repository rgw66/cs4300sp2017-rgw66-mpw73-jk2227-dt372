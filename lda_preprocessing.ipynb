{
 "cells": [
  {
   "cell_type": "code",
   "execution_count": 92,
   "metadata": {
    "collapsed": true
   },
   "outputs": [],
   "source": [
    "from __future__ import print_function\n",
    "from scipy.sparse.linalg import svds\n",
    "from sklearn.decomposition import NMF, LatentDirichletAllocation\n",
    "from sklearn.feature_extraction.text import TfidfVectorizer, CountVectorizer\n",
    "from sklearn.manifold import TSNE\n",
    "from sklearn.preprocessing import normalize\n",
    "import numpy as np\n",
    "import pickle\n",
    "import matplotlib.pyplot as plt"
   ]
  },
  {
   "cell_type": "code",
   "execution_count": 93,
   "metadata": {
    "collapsed": false
   },
   "outputs": [],
   "source": [
    "ta_data = pickle.load(open(\"data/tripadvisor_reviews.pickle\", 'rb'))\n",
    "airbnb_data = pickle.load(open(\"data/airbnb_reviews.pickle\", 'rb'))"
   ]
  },
  {
   "cell_type": "code",
   "execution_count": 94,
   "metadata": {
    "collapsed": true
   },
   "outputs": [],
   "source": [
    "ta_listings = pickle.load(open(\"data/tripadvisor_hotel_info.pickle\", 'rb'))\n",
    "airbnb_listings = pickle.load(open(\"data/airbnb_listings.pickle\", 'rb'))"
   ]
  },
  {
   "cell_type": "code",
   "execution_count": 95,
   "metadata": {
    "collapsed": false
   },
   "outputs": [
    {
     "name": "stdout",
     "output_type": "stream",
     "text": [
      "(u'La Semana Hotel ', ('https://www.tripadvisor.com/Hotel_Review-g60763-d290982-Reviews-La_Semana_Hotel-New_York_City_New_York.html', '1.5 of 5 bubbles'))\n",
      "0\n",
      "78\n"
     ]
    }
   ],
   "source": [
    "print(ta_listings.items()[0])\n",
    "ta_listing_to_index = {}\n",
    "for i,d in enumerate(ta_listings.items()):\n",
    "    ta_listing_to_index[d[0].strip()] = i\n",
    "print(ta_listing_to_index['La Semana Hotel'])\n",
    "print(len(ta_listing_to_index))"
   ]
  },
  {
   "cell_type": "code",
   "execution_count": 96,
   "metadata": {
    "collapsed": false
   },
   "outputs": [
    {
     "name": "stdout",
     "output_type": "stream",
     "text": [
      "{'review': u\"This is place is great. Service is excellent, location is ideal, beds are comfy. Not much I would really say I didn't like. There was a woman, Gabriele I believe? who was one of the nicest hotel workers I have ever encountered. Consistently friendly and helpful. I would highly recommend this hotel.\", 'review_stars': '5 of 5 bubbles', 'hotel_name': u'Hotel Giraffe by Library Hotel Collection ', 'title': u'Awesome stay'}\n"
     ]
    }
   ],
   "source": [
    "print(ta_data[0])\n",
    "ta_reviews = []\n",
    "ta_adj_mat = np.zeros((len(ta_listing_to_index), len(ta_data)))\n",
    "for j,d in enumerate(ta_data):\n",
    "    i = ta_listing_to_index[d['hotel_name'].strip()]\n",
    "    ta_reviews.append(d['review'])\n",
    "    ta_adj_mat[i,j] += 1"
   ]
  },
  {
   "cell_type": "code",
   "execution_count": 97,
   "metadata": {
    "collapsed": false
   },
   "outputs": [
    {
     "name": "stdout",
     "output_type": "stream",
     "text": [
      "('9234415', ['Emme did everything he could to make our stay super comfortable We could check in early 3 hours earlier and late check out too at no cost The apartment has 3 cozy rooms and is very close to green line subway station Excellent location to get in a few minutes to any place in Manhattan Many many places to have lunch dinner just around the corner and super safe to walk at any time through the day or night Emme recommended lots of places to visit directions to get anywhere and was very responsive through messaging'])\n",
      "85000\n"
     ]
    }
   ],
   "source": [
    "print(airbnb_data.items()[0])\n",
    "airbnb_index_to_listing = {}\n",
    "airbnb_listing_to_mat_index = {}\n",
    "airbnb_reviews = []\n",
    "i = 0\n",
    "for (ind, (listing_id, reviews)) in enumerate(airbnb_data.items()):\n",
    "    for review in reviews:\n",
    "        airbnb_reviews.append(review)\n",
    "        airbnb_listing_to_mat_index[listing_id] = ind\n",
    "        airbnb_index_to_listing[i] = listing_id\n",
    "        i += 1\n",
    "print(i)\n",
    "count = i"
   ]
  },
  {
   "cell_type": "code",
   "execution_count": 98,
   "metadata": {
    "collapsed": false
   },
   "outputs": [
    {
     "name": "stdout",
     "output_type": "stream",
     "text": [
      "[[ 1.  0.  0. ...,  0.  0.  0.]\n",
      " [ 0.  1.  1. ...,  0.  0.  0.]\n",
      " [ 0.  0.  0. ...,  0.  0.  0.]\n",
      " ..., \n",
      " [ 0.  0.  0. ...,  0.  0.  0.]\n",
      " [ 0.  0.  0. ...,  0.  0.  0.]\n",
      " [ 0.  0.  0. ...,  1.  1.  1.]]\n"
     ]
    }
   ],
   "source": [
    "airbnb_adj_mat = np.zeros((len(airbnb_data),i))\n",
    "for (j, l) in airbnb_index_to_listing.items():\n",
    "    airbnb_adj_mat[airbnb_listing_to_mat_index[l],j] += 1 \n",
    "print(airbnb_adj_mat)"
   ]
  },
  {
   "cell_type": "code",
   "execution_count": 99,
   "metadata": {
    "collapsed": false
   },
   "outputs": [],
   "source": [
    "total_adj_mat = np.zeros((len(ta_listing_to_index)+len(airbnb_data),len(ta_data)+count))\n",
    "total_mat_index_to_listing = {}\n",
    "for j,d in enumerate(ta_data):\n",
    "    i = ta_listing_to_index[d['hotel_name'].strip()]\n",
    "    total_adj_mat[i,j] += 1\n",
    "    total_mat_index_to_listing[i] = d['hotel_name'].strip()\n",
    "for (j, l) in airbnb_index_to_listing.items():\n",
    "    row = len(ta_listing_to_index)+airbnb_listing_to_mat_index[l]\n",
    "    col = len(ta_data)+j\n",
    "    total_adj_mat[row,col] += 1 \n",
    "    total_mat_index_to_listing[row] = l"
   ]
  },
  {
   "cell_type": "code",
   "execution_count": 56,
   "metadata": {
    "collapsed": true
   },
   "outputs": [],
   "source": [
    "ta_vectorizer = TfidfVectorizer(stop_words='english', min_df=0.05, max_df=0.9)\n",
    "airbnb_vectorizer = TfidfVectorizer(stop_words='english', min_df=0.05, max_df=0.9)"
   ]
  },
  {
   "cell_type": "code",
   "execution_count": 57,
   "metadata": {
    "collapsed": true
   },
   "outputs": [],
   "source": [
    "ta_tfidf = ta_vectorizer.fit_transform(ta_reviews)"
   ]
  },
  {
   "cell_type": "code",
   "execution_count": 58,
   "metadata": {
    "collapsed": true
   },
   "outputs": [],
   "source": [
    "airbnb_tfidf = airbnb_vectorizer.fit_transform(airbnb_reviews)"
   ]
  },
  {
   "cell_type": "code",
   "execution_count": 59,
   "metadata": {
    "collapsed": false
   },
   "outputs": [],
   "source": [
    "ta_tfidf_feature_names = ta_vectorizer.get_feature_names()"
   ]
  },
  {
   "cell_type": "code",
   "execution_count": 60,
   "metadata": {
    "collapsed": false
   },
   "outputs": [],
   "source": [
    "airbnb_tfidf_feature_names = airbnb_vectorizer.get_feature_names()"
   ]
  },
  {
   "cell_type": "code",
   "execution_count": 61,
   "metadata": {
    "collapsed": true
   },
   "outputs": [],
   "source": [
    "def print_top_words(model, feature_names, n_top_words):\n",
    "    for topic_idx, topic in enumerate(model.components_):\n",
    "        print(\"Topic #%d:\" % topic_idx)\n",
    "        print(\" \".join([feature_names[i]\n",
    "                        for i in topic.argsort()[:-n_top_words - 1:-1]]))\n",
    "    print()"
   ]
  },
  {
   "cell_type": "code",
   "execution_count": 62,
   "metadata": {
    "collapsed": true
   },
   "outputs": [],
   "source": [
    "# Don't need to run this every time, only run if absolutely necessary\n",
    "# ta_lda = LatentDirichletAllocation(n_topics=10, max_iter=5,\n",
    "#                                 learning_method='online',\n",
    "#                                 learning_offset=10.,\n",
    "#                                 random_state=0).fit(ta_tfidf)"
   ]
  },
  {
   "cell_type": "code",
   "execution_count": 63,
   "metadata": {
    "collapsed": false
   },
   "outputs": [],
   "source": [
    "# Don't need to run this every time, only run if absolutely necessary\n",
    "# airbnb_lda = LatentDirichletAllocation(n_topics=10, max_iter=5,\n",
    "#                                 learning_method='online',\n",
    "#                                 learning_offset=10.,\n",
    "#                                 random_state=0).fit(airbnb_tfidf)"
   ]
  },
  {
   "cell_type": "code",
   "execution_count": 64,
   "metadata": {
    "collapsed": true
   },
   "outputs": [],
   "source": [
    "total_vectorizer = TfidfVectorizer(stop_words='english', min_df=0.05, max_df=0.9)\n",
    "total_tfidf = total_vectorizer.fit_transform(ta_reviews + airbnb_reviews)"
   ]
  },
  {
   "cell_type": "code",
   "execution_count": 65,
   "metadata": {
    "collapsed": true
   },
   "outputs": [],
   "source": [
    "total_tfidf_feature_names = total_vectorizer.get_feature_names()"
   ]
  },
  {
   "cell_type": "code",
   "execution_count": 66,
   "metadata": {
    "collapsed": true
   },
   "outputs": [],
   "source": [
    "# Don't need to run this every time, only run if absolutely necessary\n",
    "# total_lda = LatentDirichletAllocation(n_topics=10, max_iter=5,\n",
    "#                                 learning_method='online',\n",
    "#                                 learning_offset=10.,\n",
    "#                                 random_state=0).fit(total_tfidf)"
   ]
  },
  {
   "cell_type": "code",
   "execution_count": 67,
   "metadata": {
    "collapsed": false
   },
   "outputs": [],
   "source": [
    "# ta_lda_topic_term_matrix = ta_lda.components_\n",
    "# ta_lda_doc_topic_matrix = ta_lda.transform(ta_tfidf)"
   ]
  },
  {
   "cell_type": "code",
   "execution_count": 68,
   "metadata": {
    "collapsed": true
   },
   "outputs": [],
   "source": [
    "# ta_lda_topic_term_matrix.dump(\"ta_lda_tt.mat\")\n",
    "# ta_lda_doc_topic_matrix.dump(\"ta_lda_dt.mat\")"
   ]
  },
  {
   "cell_type": "code",
   "execution_count": 69,
   "metadata": {
    "collapsed": true
   },
   "outputs": [],
   "source": [
    "# airbnb_lda_topic_term_matrix = airbnb_lda.components_\n",
    "# airbnb_lda_doc_topic_matrix = airbnb_lda.transform(airbnb_tfidf)"
   ]
  },
  {
   "cell_type": "code",
   "execution_count": 70,
   "metadata": {
    "collapsed": true
   },
   "outputs": [],
   "source": [
    "# airbnb_lda_topic_term_matrix.dump(\"airbnb_lda_tt.mat\")\n",
    "# airbnb_lda_doc_topic_matrix.dump(\"airbnb_lda_dt.mat\")"
   ]
  },
  {
   "cell_type": "code",
   "execution_count": 71,
   "metadata": {
    "collapsed": true
   },
   "outputs": [],
   "source": [
    "# total_lda_topic_term_matrix = total_lda.components_\n",
    "# total_lda_doc_topic_matrix = total_lda.transform(total_tfidf)"
   ]
  },
  {
   "cell_type": "code",
   "execution_count": 72,
   "metadata": {
    "collapsed": true
   },
   "outputs": [],
   "source": [
    "# total_lda_topic_term_matrix.dump(\"total_lda_tt.mat\")\n",
    "# total_lda_doc_topic_matrix.dump(\"total_lda_dt.mat\")"
   ]
  },
  {
   "cell_type": "markdown",
   "metadata": {},
   "source": [
    "### Everything above is un-normalized, so if you run the above again, make sure to normalize again!"
   ]
  },
  {
   "cell_type": "code",
   "execution_count": 114,
   "metadata": {
    "collapsed": true
   },
   "outputs": [],
   "source": [
    "# ta_lda_tt = normalize(ta_lda_tt, axis = 1)\n",
    "# airbnb_lda_tt = normalize(airbnb_lda_tt, axis = 1)\n",
    "# total_lda_tt = normalize(total_lda_tt, axis = 1)\n",
    "\n",
    "# ta_lda_tt.dump(\"ta_lda_tt.mat\")\n",
    "# airbnb_lda_tt.dump(\"airbnb_lda_tt.mat\")\n",
    "# total_lda_tt.dump(\"total_lda_tt.mat\")"
   ]
  },
  {
   "cell_type": "code",
   "execution_count": 115,
   "metadata": {
    "collapsed": true
   },
   "outputs": [],
   "source": [
    "# ta_lda_ht = normalize(np.matmul(ta_adj_mat, ta_lda_dt), axis=1)\n",
    "# airbnb_lda_ht = normalize(np.matmul(airbnb_adj_mat, airbnb_lda_dt), axis=1)\n",
    "# total_lda_ht = normalize(np.matmul(total_adj_mat, total_lda_dt), axis=1)\n",
    "\n",
    "# ta_lda_ht.dump(\"ta_lda_ht.mat\")\n",
    "# airbnb_lda_ht.dump(\"airbnb_lda_ht.mat\")\n",
    "# total_lda_ht.dump(\"total_lda_ht.mat\")"
   ]
  },
  {
   "cell_type": "code",
   "execution_count": null,
   "metadata": {
    "collapsed": true
   },
   "outputs": [],
   "source": []
  }
 ],
 "metadata": {
  "kernelspec": {
   "display_name": "Python 2",
   "language": "python",
   "name": "python2"
  },
  "language_info": {
   "codemirror_mode": {
    "name": "ipython",
    "version": 2
   },
   "file_extension": ".py",
   "mimetype": "text/x-python",
   "name": "python",
   "nbconvert_exporter": "python",
   "pygments_lexer": "ipython2",
   "version": "2.7.13"
  }
 },
 "nbformat": 4,
 "nbformat_minor": 2
}
