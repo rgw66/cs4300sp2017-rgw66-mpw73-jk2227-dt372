{
 "cells": [
  {
   "cell_type": "code",
   "execution_count": 17,
   "metadata": {
    "collapsed": true
   },
   "outputs": [],
   "source": [
    "%matplotlib inline\n",
    "\n",
    "import json\n",
    "from operator import itemgetter\n",
    "from collections import defaultdict\n",
    "\n",
    "from matplotlib import pyplot as plt\n",
    "import numpy as np\n",
    "import nltk\n",
    "from nltk.tokenize import TreebankWordTokenizer\n",
    "from nltk import FreqDist,pos_tag\n",
    "from sklearn.feature_extraction.text import CountVectorizer\n",
    "from sklearn.datasets import load_files\n",
    "from sklearn.naive_bayes import MultinomialNB"
   ]
  },
  {
   "cell_type": "code",
   "execution_count": 5,
   "metadata": {
    "collapsed": false
   },
   "outputs": [],
   "source": [
    "import cPickle as pickle\n",
    "with open('tripadvisor_reviews.pickle','rb') as f:\n",
    "    ta_reviews = pickle.load(f)"
   ]
  },
  {
   "cell_type": "code",
   "execution_count": 7,
   "metadata": {
    "collapsed": false
   },
   "outputs": [],
   "source": [
    "reviews = [ta_review['review'] for ta_review in ta_reviews]"
   ]
  },
  {
   "cell_type": "code",
   "execution_count": 8,
   "metadata": {
    "collapsed": false
   },
   "outputs": [
    {
     "data": {
      "text/plain": [
       "4535"
      ]
     },
     "execution_count": 8,
     "metadata": {},
     "output_type": "execute_result"
    }
   ],
   "source": [
    "## building the term documnet matrix\n",
    "vec = CountVectorizer(min_df = 50)\n",
    "X = vec.fit_transform(reviews)\n",
    "terms = vec.get_feature_names()\n",
    "len(terms)"
   ]
  },
  {
   "cell_type": "code",
   "execution_count": 9,
   "metadata": {
    "collapsed": true
   },
   "outputs": [],
   "source": [
    "# PMI type measure via matrix multiplication\n",
    "def getcollocations_matrix(X):\n",
    "    XX=X.T.dot(X)  ## multiply X with it's transpose to get number docs in which both w1 (row) and w2 (column) occur\n",
    "    term_freqs = np.asarray(X.sum(axis=0)) ## number of docs in which a word occurs\n",
    "    pmi = XX.toarray() * 1.0  ## Casting to float, making it an array to use simple operations\n",
    "    pmi /= term_freqs.T ## dividing by the number of documents in which w1 occurs\n",
    "    pmi /= term_freqs  ## dividing by the number of documents in which w2 occurs\n",
    "    \n",
    "    return pmi  # this is not technically PMI beacuse we are ignoring some normalization factor and not taking the log \n",
    "                # but it's sufficient for ranking"
   ]
  },
  {
   "cell_type": "code",
   "execution_count": 10,
   "metadata": {
    "collapsed": false
   },
   "outputs": [
    {
     "data": {
      "text/plain": [
       "(4535, 4535)"
      ]
     },
     "execution_count": 10,
     "metadata": {},
     "output_type": "execute_result"
    }
   ],
   "source": [
    "pmi_matrix = getcollocations_matrix(X)\n",
    "pmi_matrix.shape "
   ]
  },
  {
   "cell_type": "code",
   "execution_count": 11,
   "metadata": {
    "collapsed": true
   },
   "outputs": [],
   "source": [
    "def getcollocations(w,PMI_MATRIX=pmi_matrix,TERMS=terms):\n",
    "    if w not in TERMS:\n",
    "        return []\n",
    "    idx = TERMS.index(w)\n",
    "    col = PMI_MATRIX[:,idx].ravel().tolist()\n",
    "    return sorted([(TERMS[i],val) for i,val in enumerate(col)],key=itemgetter(1),reverse=True)"
   ]
  },
  {
   "cell_type": "code",
   "execution_count": null,
   "metadata": {
    "collapsed": false
   },
   "outputs": [],
   "source": [
    "getcollocations(\"good\")"
   ]
  },
  {
   "cell_type": "code",
   "execution_count": 14,
   "metadata": {
    "collapsed": true
   },
   "outputs": [],
   "source": [
    "tokenizer = TreebankWordTokenizer()"
   ]
  },
  {
   "cell_type": "code",
   "execution_count": 19,
   "metadata": {
    "collapsed": false
   },
   "outputs": [
    {
     "name": "stdout",
     "output_type": "stream",
     "text": [
      "[nltk_data] Downloading package averaged_perceptron_tagger to\n",
      "[nltk_data]     /Users/jihunkim/nltk_data...\n",
      "[nltk_data]   Unzipping taggers/averaged_perceptron_tagger.zip.\n"
     ]
    },
    {
     "data": {
      "text/plain": [
       "True"
      ]
     },
     "execution_count": 19,
     "metadata": {},
     "output_type": "execute_result"
    }
   ],
   "source": [
    "nltk.download('averaged_perceptron_tagger')"
   ]
  },
  {
   "cell_type": "code",
   "execution_count": 20,
   "metadata": {
    "collapsed": false
   },
   "outputs": [
    {
     "data": {
      "text/plain": [
       "[('This', 'DT'),\n",
       " ('was', 'VBD'),\n",
       " ('a', 'DT'),\n",
       " ('great', 'JJ'),\n",
       " ('day', 'NN'),\n",
       " ('but', 'CC'),\n",
       " ('the', 'DT'),\n",
       " ('time', 'NN'),\n",
       " ('is', 'VBZ'),\n",
       " ('running', 'VBG'),\n",
       " ('out', 'RP'),\n",
       " ('fast', 'RB')]"
      ]
     },
     "execution_count": 20,
     "metadata": {},
     "output_type": "execute_result"
    }
   ],
   "source": [
    "##example part of speech (POS) tagging (note that you need to tokenize the sentence first)\n",
    "pos_tag(tokenizer.tokenize(\"This was a great day but the time is running out fast\"))"
   ]
  },
  {
   "cell_type": "code",
   "execution_count": 21,
   "metadata": {
    "collapsed": true
   },
   "outputs": [],
   "source": [
    "reviews_pos_tagged=[pos_tag(tokenizer.tokenize(m)) for m in reviews]"
   ]
  },
  {
   "cell_type": "code",
   "execution_count": 22,
   "metadata": {
    "collapsed": true
   },
   "outputs": [],
   "source": [
    "reviews_adj_adv_only=[\" \".join([w for w,tag in m if tag in [\"JJ\",\"RB\",\"RBS\",\"RBJ\",\"JJR\",\"JJS\"]])\n",
    "                      for m in reviews_pos_tagged]"
   ]
  },
  {
   "cell_type": "code",
   "execution_count": 23,
   "metadata": {
    "collapsed": false
   },
   "outputs": [
    {
     "data": {
      "text/plain": [
       "1223"
      ]
     },
     "execution_count": 23,
     "metadata": {},
     "output_type": "execute_result"
    }
   ],
   "source": [
    "X = vec.fit_transform(reviews_adj_adv_only)\n",
    "terms = vec.get_feature_names()\n",
    "len(terms)"
   ]
  },
  {
   "cell_type": "code",
   "execution_count": 24,
   "metadata": {
    "collapsed": false
   },
   "outputs": [
    {
     "data": {
      "text/plain": [
       "(1223, 1223)"
      ]
     },
     "execution_count": 24,
     "metadata": {},
     "output_type": "execute_result"
    }
   ],
   "source": [
    "pmi_matrix=getcollocations_matrix(X)\n",
    "pmi_matrix.shape  # n_words by n_words"
   ]
  },
  {
   "cell_type": "code",
   "execution_count": 126,
   "metadata": {
    "collapsed": false
   },
   "outputs": [
    {
     "data": {
      "text/plain": [
       "[(u'good', 9.009290218214751e-05),\n",
       " (u'instant', 5.32102194921554e-05),\n",
       " (u'indian', 5.277761608165008e-05),\n",
       " (u'japanese', 5.117289126835666e-05),\n",
       " (u'potential', 5.014954230990001e-05),\n",
       " (u'plastic', 4.937865196280142e-05),\n",
       " (u'internal', 4.930630228959585e-05),\n",
       " (u'korean', 4.844512520927582e-05),\n",
       " (u'price', 4.8377733341933824e-05),\n",
       " (u'miss', 4.7732696897374704e-05)]"
      ]
     },
     "execution_count": 126,
     "metadata": {},
     "output_type": "execute_result"
    }
   ],
   "source": [
    "getcollocations(\"good\", pmi_matrix, terms)[:10]"
   ]
  },
  {
   "cell_type": "code",
   "execution_count": 27,
   "metadata": {
    "collapsed": true
   },
   "outputs": [],
   "source": [
    "def seed_score(pos_seed,PMI_MATRIX=pmi_matrix,TERMS=terms):\n",
    "    score=defaultdict(int)\n",
    "    for seed in pos_seed:\n",
    "        c=dict(getcollocations(seed,PMI_MATRIX,TERMS))\n",
    "        for w in c:\n",
    "            score[w]+=c[w]\n",
    "    return score"
   ]
  },
  {
   "cell_type": "code",
   "execution_count": 125,
   "metadata": {
    "collapsed": false
   },
   "outputs": [
    {
     "data": {
      "text/plain": [
       "[(u'marvelous', 0.0210367013497605),\n",
       " (u'tremendous', 0.02077955226810417),\n",
       " (u'personalized', 0.020157594703138288),\n",
       " (u'exquisite', 0.019939227021001066),\n",
       " (u'magical', 0.019579960200982016),\n",
       " (u'exemplary', 0.01774741463914602),\n",
       " (u'homely', 0.01677426009881342),\n",
       " (u'heavenly', 0.016743351792235642),\n",
       " (u'magnificent', 0.011709660252548786),\n",
       " (u'phenomenal', 0.010780816690441397),\n",
       " (u'favourite', 0.009414202254676514),\n",
       " (u'genuine', 0.008400317688886699),\n",
       " (u'instantly', 0.0032843771166931536),\n",
       " (u'spectacular', 0.0030529382678294503),\n",
       " (u'potential', 0.002701627642476028),\n",
       " (u'exceptional', 0.002677073905188852),\n",
       " (u'ish', 0.0021854939453479034),\n",
       " (u'proud', 0.002159763099215447),\n",
       " (u'iconic', 0.0018670156183468035),\n",
       " (u'business', 0.0018206878176718342),\n",
       " (u'remarkable', 0.0017279915543682428),\n",
       " (u'oldest', 0.001687007275944929),\n",
       " (u'welcomed', 0.0015659018041394358),\n",
       " (u'enthusiastic', 0.0015557672521075811),\n",
       " (u'endless', 0.001505723370697934),\n",
       " (u'defiantly', 0.0014956859788538624),\n",
       " (u'corporate', 0.0014133555967319861),\n",
       " (u'outrageous', 0.0013894166016282222),\n",
       " (u'spa', 0.0013891272448315886),\n",
       " (u'gym', 0.001386109222742838),\n",
       " (u'sincere', 0.0013571129242070594),\n",
       " (u'reluctant', 0.0013559701442374978),\n",
       " (u'truly', 0.0013457347444932053),\n",
       " (u'fit', 0.0012957297388914546),\n",
       " (u'thick', 0.0012836362716910255),\n",
       " (u'humid', 0.0012697932660831288),\n",
       " (u'eclectic', 0.001258659282625035),\n",
       " (u'genuinely', 0.0012571878713425462),\n",
       " (u'importantly', 0.0012554507752801697),\n",
       " (u'occasional', 0.0012430368575894787),\n",
       " (u'wooden', 0.0012339791987118769),\n",
       " (u'necessarily', 0.001227680411221178),\n",
       " (u'hand', 0.0012232852369679884),\n",
       " (u'lastly', 0.0012139724239595073),\n",
       " (u'flatscreen', 0.0012138945120064384),\n",
       " (u'comfortably', 0.001211600312431039),\n",
       " (u'understated', 0.0012115312972487923),\n",
       " (u'crazy', 0.0011861653418995405),\n",
       " (u'true', 0.0011747000736381302),\n",
       " (u'rich', 0.0011730414330971906)]"
      ]
     },
     "execution_count": 125,
     "metadata": {},
     "output_type": "execute_result"
    }
   ],
   "source": [
    "sorted(seed_score(['good',\n",
    "                   'great', \n",
    "                   'best',\n",
    "                   'magical',\n",
    "                   'marvelous',\n",
    "                   'tremendous',\n",
    "                   'homely',\n",
    "                   'exemplary',\n",
    "                   'favourite',\n",
    "                   'phenomenal',\n",
    "                   'personalized',\n",
    "                   'magnificent',\n",
    "                   'spectacular',\n",
    "                   'exceptional',\n",
    "                   'genuine',\n",
    "                   'exquisite',\n",
    "                   'heavenly',\n",
    "                   'geuninely'\n",
    "                  ], pmi_matrix, terms).items(),key=itemgetter(1),reverse=True)[:50]"
   ]
  },
  {
   "cell_type": "code",
   "execution_count": 124,
   "metadata": {
    "collapsed": false
   },
   "outputs": [
    {
     "data": {
      "text/plain": [
       "[(u'horrendous', 0.020732534824933833),\n",
       " (u'disgusting', 0.01738916286194967),\n",
       " (u'unprofessional', 0.017236468186201122),\n",
       " (u'unhappy', 0.013750803363176186),\n",
       " (u'nasty', 0.013656419202695976),\n",
       " (u'gross', 0.012648333294830318),\n",
       " (u'unpleasant', 0.010285748967681096),\n",
       " (u'filthy', 0.00767809253400677),\n",
       " (u'unhelpful', 0.007353780579215872),\n",
       " (u'awful', 0.005342462469031775),\n",
       " (u'horrible', 0.005014553705255097),\n",
       " (u'arrogant', 0.00470493364366358),\n",
       " (u'rude', 0.004603055449323188),\n",
       " (u'dirty', 0.004157117983028036),\n",
       " (u'worst', 0.00400797216616474),\n",
       " (u'terrible', 0.003968449610415639),\n",
       " (u'uncomfortable', 0.003919883300881516),\n",
       " (u'upset', 0.003511660054251222),\n",
       " (u'sick', 0.0030546154832528133),\n",
       " (u'stale', 0.00289857762561014),\n",
       " (u'dangerous', 0.0028978030721459576),\n",
       " (u'wrong', 0.0028574976587882645),\n",
       " (u'sticky', 0.0028421752753491477),\n",
       " (u'unacceptable', 0.002694658827267448),\n",
       " (u'angry', 0.002644882813988538),\n",
       " (u'cleaner', 0.0024701822939938766),\n",
       " (u'dead', 0.002413046293104047),\n",
       " (u'worse', 0.0023929407417497017),\n",
       " (u'ugly', 0.0023859750848437503),\n",
       " (u'repeatedly', 0.002376881041457443),\n",
       " (u'rubbish', 0.0023497636459942363),\n",
       " (u'afraid', 0.0023406965812120665),\n",
       " (u'bad', 0.002289752949519398),\n",
       " (u'useless', 0.002245704996963639),\n",
       " (u'smelly', 0.0022300102186822318),\n",
       " (u'brown', 0.0022271817443848215),\n",
       " (u'official', 0.0021310796933825104),\n",
       " (u'frankly', 0.0021169485221900785),\n",
       " (u'rudely', 0.002096314979303367),\n",
       " (u'badly', 0.0020904861790049106),\n",
       " (u'un', 0.0020594700763690668),\n",
       " (u'seriously', 0.0020262599998930697),\n",
       " (u'unfriendly', 0.0019892501615057126),\n",
       " (u'dusty', 0.0019635306998462103),\n",
       " (u'english', 0.0019465465420756849),\n",
       " (u'broken', 0.001939777751376072),\n",
       " (u'shuttle', 0.0019377471895175445),\n",
       " (u'eventually', 0.0019259749947431683),\n",
       " (u'female', 0.001922805058290793),\n",
       " (u'stained', 0.0019209462528459145)]"
      ]
     },
     "execution_count": 124,
     "metadata": {},
     "output_type": "execute_result"
    }
   ],
   "source": [
    "sorted(seed_score(['bad',\n",
    "                   'terrible',\n",
    "                   'wrong',\n",
    "                   \"crap\",\n",
    "                   \"long\",\n",
    "                   \"boring\",\n",
    "                   'bad',\n",
    "                   'nasty',\n",
    "                   'worst',\n",
    "                   'disgusting',\n",
    "                   'horrendous',\n",
    "                   'rude',\n",
    "                   'filthy',\n",
    "                   'horrible',\n",
    "                   'awful',\n",
    "                   'unhappy',\n",
    "                   'unhelpful',\n",
    "                   'uncomfortable',\n",
    "                   'dirty',\n",
    "                   'unprofessional',\n",
    "                   'gross',\n",
    "                   'unpleasant'\n",
    "                  ], pmi_matrix, terms).items(),key=itemgetter(1),reverse=True)[:50]"
   ]
  },
  {
   "cell_type": "code",
   "execution_count": 98,
   "metadata": {
    "collapsed": true
   },
   "outputs": [],
   "source": [
    "tripadvisor_posscores = seed_score(['good',\n",
    "                   'great', \n",
    "                   'best',\n",
    "                   'magical',\n",
    "                   'marvelous',\n",
    "                   'tremendous',\n",
    "                   'homely',\n",
    "                   'exemplary',\n",
    "                   'favourite',\n",
    "                   'phenomenal',\n",
    "                   'personalized',\n",
    "                   'magnificent',\n",
    "                   'spectacular',\n",
    "                   'exceptional',\n",
    "                   'genuine',\n",
    "                   'exquisite',\n",
    "                   'heavenly',\n",
    "                   'geuninely'\n",
    "                  ], pmi_matrix, terms)\n",
    "\n",
    "tripadvisor_negscores = seed_score(['bad',\n",
    "                   'terrible',\n",
    "                   'wrong',\n",
    "                   \"crap\",\n",
    "                   \"long\",\n",
    "                   \"boring\",\n",
    "                   'bad',\n",
    "                   'nasty',\n",
    "                   'worst',\n",
    "                   'disgusting',\n",
    "                   'horrendous',\n",
    "                   'rude',\n",
    "                   'filthy',\n",
    "                   'horrible',\n",
    "                   'awful',\n",
    "                   'unhappy',\n",
    "                   'unhelpful',\n",
    "                   'uncomfortable',\n",
    "                   'dirty',\n",
    "                   'unprofessional',\n",
    "                   'gross',\n",
    "                   'unpleasant'\n",
    "                  ], pmi_matrix, terms)"
   ]
  },
  {
   "cell_type": "code",
   "execution_count": 101,
   "metadata": {
    "collapsed": false
   },
   "outputs": [],
   "source": [
    "tripadvisor_sentscores={}\n",
    "for w in terms:\n",
    "    tripadvisor_sentscores[w] = tripadvisor_posscores[w] - tripadvisor_negscores[w]\n",
    "\n"
   ]
  },
  {
   "cell_type": "code",
   "execution_count": 31,
   "metadata": {
    "collapsed": false
   },
   "outputs": [],
   "source": [
    "airbnb_data = pickle.load(open(\"airbnb_reviews.pickle\", 'rb'))\n",
    "airbnb_reviews = []\n",
    "for listing_id, reviews in airbnb_data.items():\n",
    "    for review in reviews: \n",
    "        airbnb_reviews.append(review)"
   ]
  },
  {
   "cell_type": "code",
   "execution_count": 32,
   "metadata": {
    "collapsed": true
   },
   "outputs": [],
   "source": [
    "airbnb_reviews_pos_tagged=[pos_tag(tokenizer.tokenize(m)) for m in airbnb_reviews]"
   ]
  },
  {
   "cell_type": "code",
   "execution_count": 33,
   "metadata": {
    "collapsed": true
   },
   "outputs": [],
   "source": [
    "airbnb_reviews_adj_adv_only=[\" \".join([w for w,tag in m if tag in [\"JJ\",\"RB\",\"RBS\",\"RBJ\",\"JJR\",\"JJS\"]])\n",
    "                      for m in airbnb_reviews_pos_tagged]"
   ]
  },
  {
   "cell_type": "code",
   "execution_count": 34,
   "metadata": {
    "collapsed": false
   },
   "outputs": [
    {
     "data": {
      "text/plain": [
       "1960"
      ]
     },
     "execution_count": 34,
     "metadata": {},
     "output_type": "execute_result"
    }
   ],
   "source": [
    "vec2 = CountVectorizer(min_df = 50)\n",
    "Y = vec2.fit_transform(airbnb_reviews_adj_adv_only)\n",
    "airbnb_terms = vec2.get_feature_names()\n",
    "len(airbnb_terms)"
   ]
  },
  {
   "cell_type": "code",
   "execution_count": 35,
   "metadata": {
    "collapsed": false
   },
   "outputs": [
    {
     "data": {
      "text/plain": [
       "(1960, 1960)"
      ]
     },
     "execution_count": 35,
     "metadata": {},
     "output_type": "execute_result"
    }
   ],
   "source": [
    "airbnb_pmi_matrix=getcollocations_matrix(Y)\n",
    "airbnb_pmi_matrix.shape  # n_words by n_words"
   ]
  },
  {
   "cell_type": "code",
   "execution_count": 123,
   "metadata": {
    "collapsed": false
   },
   "outputs": [
    {
     "data": {
      "text/plain": [
       "[(u'inclusive', 0.020088083337619824),\n",
       " (u'ambient', 0.019457241833622112),\n",
       " (u'homy', 0.019349037426134044),\n",
       " (u'joyful', 0.017346476097376756),\n",
       " (u'sensational', 0.015643602171395612),\n",
       " (u'charmingly', 0.013626071377282094),\n",
       " (u'glorious', 0.010281809897474958),\n",
       " (u'extraordinarily', 0.009618611581047218),\n",
       " (u'caring', 0.007465870560576507),\n",
       " (u'magical', 0.0066750731020315535),\n",
       " (u'sincere', 0.006517573992124082),\n",
       " (u'classy', 0.005935311912287163),\n",
       " (u'flawless', 0.003965406954813205),\n",
       " (u'magnificent', 0.0036745094814091064),\n",
       " (u'chic', 0.002311219394003473),\n",
       " (u'uma', 0.0016471389047722509),\n",
       " (u'um', 0.0014853453467177135),\n",
       " (u'continental', 0.0008449931914577644),\n",
       " (u'uncommon', 0.0008130635496499765),\n",
       " (u'ugly', 0.0007755456103367136),\n",
       " (u'legendary', 0.0007746936642292856),\n",
       " (u'artist', 0.0007126204196082227),\n",
       " (u'agreeable', 0.0006795576517786452),\n",
       " (u'mad', 0.0006766226910385523),\n",
       " (u'festive', 0.0006626268138376387),\n",
       " (u'sparkling', 0.0006382897028458716),\n",
       " (u'que', 0.000616642391513504),\n",
       " (u'mellow', 0.0006044800954213732),\n",
       " (u'preferred', 0.0005732368530732891),\n",
       " (u'delightfully', 0.0005625891476494403),\n",
       " (u'el', 0.0005330104038315958),\n",
       " (u'talented', 0.0005315089584894902),\n",
       " (u'historical', 0.0005257564449468294),\n",
       " (u'elevated', 0.0005251690094449396),\n",
       " (u'espresso', 0.0005132872129015388),\n",
       " (u'youngest', 0.0005067314975682643),\n",
       " (u'gritty', 0.000501559782978277),\n",
       " (u'shabby', 0.0004967639765382284),\n",
       " (u'isolated', 0.0004791794879756093),\n",
       " (u'start', 0.0004658733337789536),\n",
       " (u'absent', 0.0004649594855575021),\n",
       " (u'forever', 0.0004626278273605961),\n",
       " (u'simultaneously', 0.000460060016539822),\n",
       " (u'exquisite', 0.0004594570803052533),\n",
       " (u'equally', 0.0004557633738174758),\n",
       " (u'resourceful', 0.00045387617189083065),\n",
       " (u'smallish', 0.0004492748808985281),\n",
       " (u'smell', 0.0004482124433917555),\n",
       " (u'degree', 0.00044714279814941503),\n",
       " (u'jour', 0.00043807229932205604)]"
      ]
     },
     "execution_count": 123,
     "metadata": {},
     "output_type": "execute_result"
    }
   ],
   "source": [
    "sorted(seed_score([\n",
    "            'good',\n",
    "            'great',\n",
    "            'perfect',\n",
    "            'cool', \n",
    "            'ambient', \n",
    "            'joyful',\n",
    "            'inclusive',\n",
    "            'sensational',\n",
    "            'charmingly',\n",
    "            'chic',\n",
    "            'magical',\n",
    "            'magnificent',\n",
    "            'flawless', \n",
    "            'free',\n",
    "            'homy',\n",
    "            'caring',\n",
    "            'sincere',\n",
    "            'extraordinarily',\n",
    "            'magical',\n",
    "            'glorious',\n",
    "            'classy'\n",
    "        ], \n",
    "                  airbnb_pmi_matrix, \n",
    "                  airbnb_terms).items(),key=itemgetter(1),reverse=True)[:50]"
   ]
  },
  {
   "cell_type": "code",
   "execution_count": 122,
   "metadata": {
    "collapsed": false
   },
   "outputs": [
    {
     "data": {
      "text/plain": [
       "[(u'inadequate', 0.024437835172164152),\n",
       " (u'miserable', 0.02297874799436424),\n",
       " (u'ugly', 0.021194345885534795),\n",
       " (u'untidy', 0.02065875701309372),\n",
       " (u'moldy', 0.020297928061508996),\n",
       " (u'unhappy', 0.019475421911002103),\n",
       " (u'misleading', 0.016246248352534576),\n",
       " (u'rubbish', 0.015135684734098178),\n",
       " (u'unusable', 0.013190728937912056),\n",
       " (u'unacceptable', 0.012990373218416038),\n",
       " (u'upset', 0.011114484229654392),\n",
       " (u'nasty', 0.011024909870469021),\n",
       " (u'gross', 0.010218803425632906),\n",
       " (u'filthy', 0.007805548279542542),\n",
       " (u'smelly', 0.007070855420123548),\n",
       " (u'disappointing', 0.005742164825257027),\n",
       " (u'messy', 0.005431358371905467),\n",
       " (u'horrible', 0.004941338511252913),\n",
       " (u'worst', 0.004550375420302404),\n",
       " (u'terrible', 0.0038920021350270276),\n",
       " (u'weird', 0.0033756539096123574),\n",
       " (u'strange', 0.003046846240682892),\n",
       " (u'poor', 0.003016155357428104),\n",
       " (u'rude', 0.0029338739082233733),\n",
       " (u'unlocked', 0.0028726158558034223),\n",
       " (u'disappointed', 0.0028152361698589117),\n",
       " (u'dirty', 0.0025748523493614194),\n",
       " (u'false', 0.002485032482499341),\n",
       " (u'sticky', 0.0023983694248612118),\n",
       " (u'poorly', 0.002323293010934787),\n",
       " (u'used', 0.0022491603905214195),\n",
       " (u'useless', 0.002245034352274967),\n",
       " (u'dingy', 0.002116948227159478),\n",
       " (u'pillow', 0.0020932665790778723),\n",
       " (u'awful', 0.0020727267748226275),\n",
       " (u'badly', 0.002045292604085954),\n",
       " (u'dust', 0.0020384835155083983),\n",
       " (u'worse', 0.002001060620675156),\n",
       " (u'unstable', 0.0019482195632220807),\n",
       " (u'suppose', 0.0017888369074204353),\n",
       " (u'unpleasant', 0.00172844045765694),\n",
       " (u'aggressive', 0.0017060380571387484),\n",
       " (u'unbearably', 0.0017011274632256982),\n",
       " (u'unclean', 0.001692343218322127),\n",
       " (u'broken', 0.001659884284375283),\n",
       " (u'cluttered', 0.001606404361370967),\n",
       " (u'evident', 0.0015840163535421562),\n",
       " (u'ongoing', 0.0015468136482872535),\n",
       " (u'smell', 0.0015319976607428903),\n",
       " (u'wet', 0.0015124811556643542)]"
      ]
     },
     "execution_count": 122,
     "metadata": {},
     "output_type": "execute_result"
    }
   ],
   "source": [
    "sorted(seed_score(['moldy', \n",
    "                   'disappointed', \n",
    "                   'unhappy' ,\n",
    "                   'disappointing', \n",
    "                   'unacceptable', \n",
    "                   'inadequate', \n",
    "                   'dirty', \n",
    "                   'worst', \n",
    "                   'gross', \n",
    "                   'filthy', \n",
    "                   'horrible', \n",
    "                   'nasty', \n",
    "                   'unusable', \n",
    "                   'misleading', \n",
    "                   'miserable', \n",
    "                   'terrible', \n",
    "                   'unplesant', \n",
    "                   'smelly', \n",
    "                   'upset', \n",
    "                   'poor', \n",
    "                   'messy', \n",
    "                   'untidy',\n",
    "                   'weird',\n",
    "                   'bad',\n",
    "                   'strange',\n",
    "                   'rubbish',\n",
    "                   'ugly'\n",
    "                  ], \n",
    "                  airbnb_pmi_matrix, \n",
    "                  airbnb_terms).items(),key=itemgetter(1),reverse=True)[:50]"
   ]
  },
  {
   "cell_type": "code",
   "execution_count": 109,
   "metadata": {
    "collapsed": true
   },
   "outputs": [],
   "source": [
    "airbnb_posscores = seed_score(['good',\n",
    "            'great',\n",
    "            'perfect',\n",
    "            'cool', \n",
    "            'ambient', \n",
    "            'joyful',\n",
    "            'inclusive',\n",
    "            'sensational',\n",
    "            'charmingly',\n",
    "            'chic',\n",
    "            'magical',\n",
    "            'magnificent',\n",
    "            'flawless', \n",
    "            'free',\n",
    "            'homy',\n",
    "            'caring',\n",
    "            'sincere',\n",
    "            'extraordinarily',\n",
    "            'magical',\n",
    "            'glorious',\n",
    "            'classy'\n",
    "                  ], airbnb_pmi_matrix, \n",
    "                  airbnb_terms)\n",
    "\n",
    "airbnb_negscores = seed_score(['bad',\n",
    "                   'terrible',\n",
    "                   'wrong',\n",
    "                   \"crap\",\n",
    "                   \"long\",\n",
    "                   \"boring\",\n",
    "                   'bad',\n",
    "                   'nasty',\n",
    "                   'worst',\n",
    "                   'horrendous',\n",
    "                   'rude',\n",
    "                   'filthy',\n",
    "                   'horrible',\n",
    "                   'awful',\n",
    "                   'unhappy',\n",
    "                   'unhelpful',\n",
    "                   'uncomfortable',\n",
    "                   'dirty',\n",
    "                   'unprofessional',\n",
    "                   'gross',\n",
    "                   'unpleasant'\n",
    "                  ], airbnb_pmi_matrix, \n",
    "                  airbnb_terms)"
   ]
  },
  {
   "cell_type": "code",
   "execution_count": 110,
   "metadata": {
    "collapsed": true
   },
   "outputs": [],
   "source": [
    "airbnb_sentscores={}\n",
    "for w in airbnb_terms:\n",
    "    airbnb_sentscores[w] = airbnb_posscores[w] - airbnb_negscores[w]"
   ]
  },
  {
   "cell_type": "code",
   "execution_count": 127,
   "metadata": {
    "collapsed": true
   },
   "outputs": [],
   "source": [
    "with open('tripadvisor_sentscores.pickle', 'wb') as f:\n",
    "    pickle.dump(tripadvisor_sentscores, f) \n",
    "\n",
    "with open('airbnb_sentscores.pickle', 'wb') as f:\n",
    "    pickle.dump(airbnb_sentscores, f)"
   ]
  },
  {
   "cell_type": "code",
   "execution_count": null,
   "metadata": {
    "collapsed": true
   },
   "outputs": [],
   "source": []
  }
 ],
 "metadata": {
  "kernelspec": {
   "display_name": "Python [conda env:cs4300]",
   "language": "python",
   "name": "conda-env-cs4300-py"
  },
  "language_info": {
   "codemirror_mode": {
    "name": "ipython",
    "version": 2
   },
   "file_extension": ".py",
   "mimetype": "text/x-python",
   "name": "python",
   "nbconvert_exporter": "python",
   "pygments_lexer": "ipython2",
   "version": "2.7.13"
  }
 },
 "nbformat": 4,
 "nbformat_minor": 1
}
